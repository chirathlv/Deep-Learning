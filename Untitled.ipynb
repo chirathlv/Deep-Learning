{
 "cells": [
  {
   "cell_type": "code",
   "execution_count": 1,
   "metadata": {},
   "outputs": [],
   "source": [
    "# import packages\n",
    "import numpy as np\n",
    "import pandas as pd\n",
    "import matplotlib.pyplot as plt\n",
    "%matplotlib inline"
   ]
  },
  {
   "cell_type": "code",
   "execution_count": 16,
   "metadata": {},
   "outputs": [],
   "source": [
    "# load the dataset\n",
    "df = pd.read_csv(\".\\Datasets\\ecommerce_data.csv\", encoding=\"UTF-8\")"
   ]
  },
  {
   "cell_type": "code",
   "execution_count": 17,
   "metadata": {},
   "outputs": [],
   "source": [
    "# Normalize the n_products_viewed and visit_duration columns\n",
    "df[\"n_products_viewed\"] = (df[\"n_products_viewed\"] - df[\"n_products_viewed\"].mean()) / df[\"n_products_viewed\"].std()\n",
    "df[\"visit_duration\"] = (df[\"visit_duration\"] - df[\"visit_duration\"].mean())/ df[\"visit_duration\"].std()"
   ]
  },
  {
   "cell_type": "code",
   "execution_count": 18,
   "metadata": {},
   "outputs": [],
   "source": [
    "# input and output features\n",
    "X = df.iloc[:,:-1].to_numpy()\n",
    "Y = df.iloc[:,-1].to_numpy()"
   ]
  },
  {
   "cell_type": "code",
   "execution_count": 19,
   "metadata": {},
   "outputs": [],
   "source": [
    "# Apply one hot encoding to \"time_of_day\" column\n",
    "V = np.zeros((X.shape[0], (X[:,-1].max()+1).astype(np.int32)))\n",
    "\n",
    "for i,j in enumerate(X[:,-1]):\n",
    "    V[i,int(j)] = 1\n",
    "    \n",
    "X = np.concatenate((X[:,:-1].reshape(X.shape[0],X.shape[1]-1),V), axis=1)"
   ]
  },
  {
   "cell_type": "code",
   "execution_count": 20,
   "metadata": {},
   "outputs": [],
   "source": [
    "# Apply one hot encoding to Y and take as T\n",
    "T = np.zeros((Y.shape[0], np.unique(Y).shape[0]))\n",
    "\n",
    "for i,j in enumerate(Y):\n",
    "    T[i,j] = 1"
   ]
  },
  {
   "cell_type": "code",
   "execution_count": 21,
   "metadata": {},
   "outputs": [
    {
     "name": "stdout",
     "output_type": "stream",
     "text": [
      "(500, 8) (500, 4)\n"
     ]
    }
   ],
   "source": [
    "print(X.shape, T.shape)"
   ]
  },
  {
   "cell_type": "code",
   "execution_count": null,
   "metadata": {},
   "outputs": [],
   "source": []
  },
  {
   "cell_type": "code",
   "execution_count": 25,
   "metadata": {},
   "outputs": [
    {
     "name": "stdout",
     "output_type": "stream",
     "text": [
      "0 0.3763917726438069\n",
      "1000 0.03518998230391226\n",
      "2000 0.023251178048884567\n",
      "3000 0.019224441262322933\n",
      "4000 0.01703178851576642\n",
      "5000 0.015283709818570293\n",
      "6000 0.013996627361856986\n",
      "7000 0.013076399854148928\n",
      "8000 0.0123711604018614\n",
      "9000 0.011799935710364152\n",
      "Final train classification_rate: 0.988\n"
     ]
    },
    {
     "data": {
      "image/png": "[encoded data removed]",
      "text/plain": [
       "<Figure size 432x288 with 1 Axes>"
      ]
     },
     "metadata": {
      "needs_background": "light"
     },
     "output_type": "display_data"
    }
   ],
   "source": [
    "D = X.shape[1]\n",
    "K = len(set(Y))\n",
    "M = 5\n",
    "np.random.seed(1)\n",
    "# randomly initialize weights\n",
    "W1 = np.random.randn(D, M)\n",
    "b1 = np.zeros(M)\n",
    "W2 = np.random.randn(M, K)\n",
    "b2 = np.zeros(K)\n",
    "\n",
    "# make predictions\n",
    "def softmax(a):\n",
    "    expA = np.exp(a)\n",
    "    return expA / expA.sum(axis=1, keepdims=True)\n",
    "\n",
    "def forward(X, W1, b1, W2, b2):\n",
    "    Z = np.tanh(X.dot(W1) + b1)\n",
    "    return softmax(Z.dot(W2) + b2), Z\n",
    "\n",
    "def predict(P_Y_given_X):\n",
    "    return np.argmax(P_Y_given_X, axis=1)\n",
    "\n",
    "# calculate the accuracy\n",
    "def classification_rate(Y, P):\n",
    "    return np.mean(Y == P)\n",
    "\n",
    "def cross_entropy(T, pY):\n",
    "    return -np.mean(T*np.log(pY))\n",
    "\n",
    "\n",
    "# train loop\n",
    "train_costs = []\n",
    "test_costs = []\n",
    "learning_rate = 0.001\n",
    "for i in range(10000):\n",
    "    pYtrain, Ztrain = forward(X, W1, b1, W2, b2)\n",
    "    #pYtest, Ztest = forward(Xtest, W1, b1, W2, b2)\n",
    "\n",
    "    ctrain = cross_entropy(T, pYtrain)\n",
    "    #ctest = cross_entropy(Ytest_ind, pYtest)\n",
    "    train_costs.append(ctrain)\n",
    "    #test_costs.append(ctest)\n",
    "\n",
    "    # gradient descent\n",
    "    W2 -= learning_rate*Ztrain.T.dot(pYtrain - T)\n",
    "    b2 -= learning_rate*(pYtrain - T).sum(axis=0)\n",
    "    dZ = (pYtrain - T).dot(W2.T) * (1 - Ztrain*Ztrain)\n",
    "    W1 -= learning_rate*X.T.dot(dZ)\n",
    "    b1 -= learning_rate*dZ.sum(axis=0)\n",
    "    if i % 1000 == 0:\n",
    "        print(i, ctrain)\n",
    "\n",
    "print(\"Final train classification_rate:\", classification_rate(Y, predict(pYtrain)))\n",
    "#print(\"Final test classification_rate:\", classification_rate(Ytest, predict(pYtest)))\n",
    "\n",
    "legend1, = plt.plot(train_costs, label='train cost')\n",
    "#legend2, = plt.plot(test_costs, label='test cost')\n",
    "#plt.legend([legend1, legend2])\n",
    "plt.show()"
   ]
  },
  {
   "cell_type": "code",
   "execution_count": null,
   "metadata": {},
   "outputs": [],
   "source": []
  }
 ],
 "metadata": {
  "kernelspec": {
   "display_name": "Python 3",
   "language": "python",
   "name": "python3"
  },
  "language_info": {
   "codemirror_mode": {
    "name": "ipython",
    "version": 3
   },
   "file_extension": ".py",
   "mimetype": "text/x-python",
   "name": "python",
   "nbconvert_exporter": "python",
   "pygments_lexer": "ipython3",
   "version": "3.7.9"
  }
 },
 "nbformat": 4,
 "nbformat_minor": 4
}
