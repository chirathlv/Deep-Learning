{
 "cells": [
  {
   "cell_type": "code",
   "execution_count": 286,
   "metadata": {},
   "outputs": [],
   "source": [
    "# import packages\n",
    "import numpy as np\n",
    "import matplotlib.pyplot as plt\n",
    "%matplotlib inline"
   ]
  },
  {
   "cell_type": "code",
   "execution_count": 287,
   "metadata": {},
   "outputs": [],
   "source": [
    "# Create XOR problem\n",
    "X = np.array([[0,0],[0,1],[1,0],[1,1]])\n",
    "Y = np.array([0,1,1,0])"
   ]
  },
  {
   "cell_type": "code",
   "execution_count": 288,
   "metadata": {},
   "outputs": [
    {
     "data": {
      "image/png": "[encoded data removed]",
      "text/plain": [
       "<Figure size 432x288 with 1 Axes>"
      ]
     },
     "metadata": {
      "needs_background": "light"
     },
     "output_type": "display_data"
    }
   ],
   "source": [
    "# Visualizing problem\n",
    "plt.scatter(X[:,0], X[:,1], c=Y, s=200)\n",
    "plt.show()"
   ]
  },
  {
   "cell_type": "code",
   "execution_count": 289,
   "metadata": {},
   "outputs": [],
   "source": [
    "def sigmoid(z):\n",
    "    return 1 / (1 + np.exp(-z))"
   ]
  },
  {
   "cell_type": "code",
   "execution_count": 290,
   "metadata": {},
   "outputs": [],
   "source": [
    "def tanh(z):\n",
    "    return (np.exp(z)-np.exp(-z)) / (np.exp(z)+np.exp(-z))"
   ]
  },
  {
   "cell_type": "code",
   "execution_count": 291,
   "metadata": {},
   "outputs": [],
   "source": [
    "def cost(y,yhat):\n",
    "    return -np.sum(y*np.log(yhat)+(1-y)*np.log(1-yhat))"
   ]
  },
  {
   "cell_type": "code",
   "execution_count": 292,
   "metadata": {},
   "outputs": [],
   "source": [
    "def forward(x,w1,w2,b1,b2,activation):\n",
    "    z1 = np.dot(x,w1)+b1\n",
    "    a = z1*(z1>0)\n",
    "    z2 = np.dot(a,w2)+b2\n",
    "    yhat = sigmoid(z2)\n",
    "    return a,yhat"
   ]
  },
  {
   "cell_type": "code",
   "execution_count": 293,
   "metadata": {},
   "outputs": [],
   "source": [
    "def train(x, y, H, activation, lr, iterations,s):\n",
    "    np.random.seed(s)\n",
    "    N = x.shape[0]\n",
    "    D = x.shape[1]\n",
    "    w2 = np.random.randn(H)\n",
    "    b1 = np.zeros(H)\n",
    "    w1 = np.random.randn(D,H)\n",
    "    b2 = 0\n",
    "    c = []\n",
    "    \n",
    "    for i in range(iterations):\n",
    "        a,yhat = forward(x,w1,w2,b1,b2,activation) # forward pass\n",
    "        error2 = y-yhat # Last layer error\n",
    "        gradient2 = error2 # Last Layer error gradient\n",
    "        error1 = np.outer(gradient2,w2) # middle layer error\n",
    "        gradient1 = error1*(a>0) # middle layer error gradient\n",
    "\n",
    "        # Weights update\n",
    "        w1 += lr*np.dot(x.T, gradient1)\n",
    "        w2 += lr*np.dot(a.T, gradient2)\n",
    "        \n",
    "        b1 += lr*gradient1.sum(axis=0)\n",
    "        b2 += lr*gradient2.sum(axis=0)\n",
    "        \n",
    "        # cost\n",
    "        c.append(cost(y,yhat.reshape(-1))) # cost at each iteration\n",
    "        \n",
    "    return np.round(yhat),c, w1,w2"
   ]
  },
  {
   "cell_type": "code",
   "execution_count": 295,
   "metadata": {},
   "outputs": [],
   "source": [
    "yhat, c, w1, w2 = train(X,Y,5,sigmoid,0.01,10000,s=1)"
   ]
  },
  {
   "cell_type": "code",
   "execution_count": 298,
   "metadata": {},
   "outputs": [
    {
     "name": "stdout",
     "output_type": "stream",
     "text": [
      "Accuracy:  1.0\n"
     ]
    }
   ],
   "source": [
    "print(\"Accuracy: \", np.mean(Y==yhat))"
   ]
  },
  {
   "cell_type": "code",
   "execution_count": 299,
   "metadata": {},
   "outputs": [
    {
     "data": {
      "image/png": "[encoded data removed]",
      "text/plain": [
       "<Figure size 432x288 with 1 Axes>"
      ]
     },
     "metadata": {
      "needs_background": "light"
     },
     "output_type": "display_data"
    }
   ],
   "source": [
    "plt.plot(c)\n",
    "plt.show()"
   ]
  },
  {
   "cell_type": "code",
   "execution_count": null,
   "metadata": {},
   "outputs": [],
   "source": []
  }
 ],
 "metadata": {
  "kernelspec": {
   "display_name": "Python 3",
   "language": "python",
   "name": "python3"
  },
  "language_info": {
   "codemirror_mode": {
    "name": "ipython",
    "version": 3
   },
   "file_extension": ".py",
   "mimetype": "text/x-python",
   "name": "python",
   "nbconvert_exporter": "python",
   "pygments_lexer": "ipython3",
   "version": "3.7.9"
  }
 },
 "nbformat": 4,
 "nbformat_minor": 4
}
