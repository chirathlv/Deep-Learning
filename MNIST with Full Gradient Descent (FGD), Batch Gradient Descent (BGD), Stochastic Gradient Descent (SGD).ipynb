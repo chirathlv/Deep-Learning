{
 "cells": [
  {
   "cell_type": "code",
   "execution_count": 102,
   "metadata": {},
   "outputs": [],
   "source": [
    "# import packages\n",
    "import sys\n",
    "import math\n",
    "import numpy as np\n",
    "import pandas as pd\n",
    "from sklearn.utils import shuffle\n",
    "import matplotlib.pyplot as plt\n",
    "%matplotlib inline"
   ]
  },
  {
   "cell_type": "code",
   "execution_count": 2,
   "metadata": {},
   "outputs": [],
   "source": [
    "# load the data\n",
    "df = pd.read_csv(\"../../DataSet/mnist_train.csv\")"
   ]
  },
  {
   "cell_type": "code",
   "execution_count": 3,
   "metadata": {},
   "outputs": [
    {
     "data": {
      "text/html": [
       "<div>\n",
       "<style scoped>\n",
       "    .dataframe tbody tr th:only-of-type {\n",
       "        vertical-align: middle;\n",
       "    }\n",
       "\n",
       "    .dataframe tbody tr th {\n",
       "        vertical-align: top;\n",
       "    }\n",
       "\n",
       "    .dataframe thead th {\n",
       "        text-align: right;\n",
       "    }\n",
       "</style>\n",
       "<table border=\"1\" class=\"dataframe\">\n",
       "  <thead>\n",
       "    <tr style=\"text-align: right;\">\n",
       "      <th></th>\n",
       "      <th>label</th>\n",
       "      <th>1x1</th>\n",
       "      <th>1x2</th>\n",
       "      <th>1x3</th>\n",
       "      <th>1x4</th>\n",
       "      <th>1x5</th>\n",
       "      <th>1x6</th>\n",
       "      <th>1x7</th>\n",
       "      <th>1x8</th>\n",
       "      <th>1x9</th>\n",
       "      <th>...</th>\n",
       "      <th>28x19</th>\n",
       "      <th>28x20</th>\n",
       "      <th>28x21</th>\n",
       "      <th>28x22</th>\n",
       "      <th>28x23</th>\n",
       "      <th>28x24</th>\n",
       "      <th>28x25</th>\n",
       "      <th>28x26</th>\n",
       "      <th>28x27</th>\n",
       "      <th>28x28</th>\n",
       "    </tr>\n",
       "  </thead>\n",
       "  <tbody>\n",
       "    <tr>\n",
       "      <th>0</th>\n",
       "      <td>5</td>\n",
       "      <td>0</td>\n",
       "      <td>0</td>\n",
       "      <td>0</td>\n",
       "      <td>0</td>\n",
       "      <td>0</td>\n",
       "      <td>0</td>\n",
       "      <td>0</td>\n",
       "      <td>0</td>\n",
       "      <td>0</td>\n",
       "      <td>...</td>\n",
       "      <td>0</td>\n",
       "      <td>0</td>\n",
       "      <td>0</td>\n",
       "      <td>0</td>\n",
       "      <td>0</td>\n",
       "      <td>0</td>\n",
       "      <td>0</td>\n",
       "      <td>0</td>\n",
       "      <td>0</td>\n",
       "      <td>0</td>\n",
       "    </tr>\n",
       "    <tr>\n",
       "      <th>1</th>\n",
       "      <td>0</td>\n",
       "      <td>0</td>\n",
       "      <td>0</td>\n",
       "      <td>0</td>\n",
       "      <td>0</td>\n",
       "      <td>0</td>\n",
       "      <td>0</td>\n",
       "      <td>0</td>\n",
       "      <td>0</td>\n",
       "      <td>0</td>\n",
       "      <td>...</td>\n",
       "      <td>0</td>\n",
       "      <td>0</td>\n",
       "      <td>0</td>\n",
       "      <td>0</td>\n",
       "      <td>0</td>\n",
       "      <td>0</td>\n",
       "      <td>0</td>\n",
       "      <td>0</td>\n",
       "      <td>0</td>\n",
       "      <td>0</td>\n",
       "    </tr>\n",
       "    <tr>\n",
       "      <th>2</th>\n",
       "      <td>4</td>\n",
       "      <td>0</td>\n",
       "      <td>0</td>\n",
       "      <td>0</td>\n",
       "      <td>0</td>\n",
       "      <td>0</td>\n",
       "      <td>0</td>\n",
       "      <td>0</td>\n",
       "      <td>0</td>\n",
       "      <td>0</td>\n",
       "      <td>...</td>\n",
       "      <td>0</td>\n",
       "      <td>0</td>\n",
       "      <td>0</td>\n",
       "      <td>0</td>\n",
       "      <td>0</td>\n",
       "      <td>0</td>\n",
       "      <td>0</td>\n",
       "      <td>0</td>\n",
       "      <td>0</td>\n",
       "      <td>0</td>\n",
       "    </tr>\n",
       "    <tr>\n",
       "      <th>3</th>\n",
       "      <td>1</td>\n",
       "      <td>0</td>\n",
       "      <td>0</td>\n",
       "      <td>0</td>\n",
       "      <td>0</td>\n",
       "      <td>0</td>\n",
       "      <td>0</td>\n",
       "      <td>0</td>\n",
       "      <td>0</td>\n",
       "      <td>0</td>\n",
       "      <td>...</td>\n",
       "      <td>0</td>\n",
       "      <td>0</td>\n",
       "      <td>0</td>\n",
       "      <td>0</td>\n",
       "      <td>0</td>\n",
       "      <td>0</td>\n",
       "      <td>0</td>\n",
       "      <td>0</td>\n",
       "      <td>0</td>\n",
       "      <td>0</td>\n",
       "    </tr>\n",
       "    <tr>\n",
       "      <th>4</th>\n",
       "      <td>9</td>\n",
       "      <td>0</td>\n",
       "      <td>0</td>\n",
       "      <td>0</td>\n",
       "      <td>0</td>\n",
       "      <td>0</td>\n",
       "      <td>0</td>\n",
       "      <td>0</td>\n",
       "      <td>0</td>\n",
       "      <td>0</td>\n",
       "      <td>...</td>\n",
       "      <td>0</td>\n",
       "      <td>0</td>\n",
       "      <td>0</td>\n",
       "      <td>0</td>\n",
       "      <td>0</td>\n",
       "      <td>0</td>\n",
       "      <td>0</td>\n",
       "      <td>0</td>\n",
       "      <td>0</td>\n",
       "      <td>0</td>\n",
       "    </tr>\n",
       "  </tbody>\n",
       "</table>\n",
       "<p>5 rows × 785 columns</p>\n",
       "</div>"
      ],
      "text/plain": [
       "   label  1x1  1x2  1x3  1x4  1x5  1x6  1x7  1x8  1x9  ...  28x19  28x20  \\\n",
       "0      5    0    0    0    0    0    0    0    0    0  ...      0      0   \n",
       "1      0    0    0    0    0    0    0    0    0    0  ...      0      0   \n",
       "2      4    0    0    0    0    0    0    0    0    0  ...      0      0   \n",
       "3      1    0    0    0    0    0    0    0    0    0  ...      0      0   \n",
       "4      9    0    0    0    0    0    0    0    0    0  ...      0      0   \n",
       "\n",
       "   28x21  28x22  28x23  28x24  28x25  28x26  28x27  28x28  \n",
       "0      0      0      0      0      0      0      0      0  \n",
       "1      0      0      0      0      0      0      0      0  \n",
       "2      0      0      0      0      0      0      0      0  \n",
       "3      0      0      0      0      0      0      0      0  \n",
       "4      0      0      0      0      0      0      0      0  \n",
       "\n",
       "[5 rows x 785 columns]"
      ]
     },
     "execution_count": 3,
     "metadata": {},
     "output_type": "execute_result"
    }
   ],
   "source": [
    "df.head()"
   ]
  },
  {
   "cell_type": "code",
   "execution_count": 4,
   "metadata": {},
   "outputs": [
    {
     "data": {
      "text/plain": [
       "(60000, 785)"
      ]
     },
     "execution_count": 4,
     "metadata": {},
     "output_type": "execute_result"
    }
   ],
   "source": [
    "df.shape"
   ]
  },
  {
   "cell_type": "code",
   "execution_count": 5,
   "metadata": {},
   "outputs": [],
   "source": [
    "# input and output features\n",
    "X = df.iloc[:,1:].to_numpy() / 255\n",
    "Y = df.iloc[:,0].to_numpy()"
   ]
  },
  {
   "cell_type": "code",
   "execution_count": 6,
   "metadata": {},
   "outputs": [],
   "source": [
    "# Train and Test split\n",
    "Xtrain, Xtest, Ytrain, Ytest = X[:-1000], X[-1000:], Y[:-1000], Y[-1000:]"
   ]
  },
  {
   "cell_type": "code",
   "execution_count": 7,
   "metadata": {},
   "outputs": [],
   "source": [
    "# Shuffle the training data\n",
    "Xtrain, Ytrain = shuffle(Xtrain, Ytrain)"
   ]
  },
  {
   "cell_type": "code",
   "execution_count": 8,
   "metadata": {},
   "outputs": [],
   "source": [
    "def showPic(x,y):\n",
    "    plt.title(\"Digit: \"+str(y))\n",
    "    plt.imshow(x.reshape(28,28))\n",
    "    plt.show()"
   ]
  },
  {
   "cell_type": "code",
   "execution_count": 9,
   "metadata": {},
   "outputs": [
    {
     "data": {
      "image/png": "[encoded data removed]",
      "text/plain": [
       "<Figure size 432x288 with 1 Axes>"
      ]
     },
     "metadata": {
      "needs_background": "light"
     },
     "output_type": "display_data"
    }
   ],
   "source": [
    "# Testing a PIC\n",
    "id = 1\n",
    "showPic(Xtrain[id], Ytrain[id])"
   ]
  },
  {
   "cell_type": "code",
   "execution_count": 10,
   "metadata": {},
   "outputs": [],
   "source": [
    "def sigmoid(z):\n",
    "    return 1 / (1 + np.exp(-z))"
   ]
  },
  {
   "cell_type": "code",
   "execution_count": 11,
   "metadata": {},
   "outputs": [],
   "source": [
    "def tanh(z):\n",
    "    return (np.exp(z)-np.exp(-z)) / (np.exp(z)+np.exp(-z))"
   ]
  },
  {
   "cell_type": "code",
   "execution_count": 12,
   "metadata": {},
   "outputs": [],
   "source": [
    "def relu(z):\n",
    "    return z*(z>0)"
   ]
  },
  {
   "cell_type": "code",
   "execution_count": 13,
   "metadata": {},
   "outputs": [],
   "source": [
    "def softmax(z):\n",
    "    return np.exp(z) / np.exp(z).sum(axis=1, keepdims=True)"
   ]
  },
  {
   "cell_type": "code",
   "execution_count": 14,
   "metadata": {},
   "outputs": [],
   "source": [
    "def nonlinearDeri(z,activation):\n",
    "    if activation==\"sigmoid\":\n",
    "        return z*(1-z)\n",
    "    if activation==\"tanh\":\n",
    "        return (1-z**2)\n",
    "    if activation==\"relu\":\n",
    "        return (z>0)"
   ]
  },
  {
   "cell_type": "code",
   "execution_count": 15,
   "metadata": {},
   "outputs": [],
   "source": [
    "def oneHotEncode(y):\n",
    "    T = np.zeros((y.shape[0], np.unique(y).shape[0]))\n",
    "    \n",
    "    for i,val in enumerate(y):\n",
    "        T[i,val] = 1\n",
    "        \n",
    "    return T"
   ]
  },
  {
   "cell_type": "code",
   "execution_count": 105,
   "metadata": {},
   "outputs": [],
   "source": [
    "def cost(t,y):\n",
    "    return -np.sum(t*np.log(y))"
   ]
  },
  {
   "cell_type": "code",
   "execution_count": 17,
   "metadata": {},
   "outputs": [],
   "source": [
    "def predict(y):\n",
    "    return np.argmax(y, axis=1)"
   ]
  },
  {
   "cell_type": "code",
   "execution_count": 18,
   "metadata": {},
   "outputs": [],
   "source": [
    "def forward(X,T,hidden,activation,W,B,A,i,seed):\n",
    "    D = X.shape[1]\n",
    "    L = len(hidden)\n",
    "    K = T.shape[1]\n",
    "    np.random.seed(seed)\n",
    "    \n",
    "    for l in range(L+1):\n",
    "        if l==0:\n",
    "            if i==0:\n",
    "                W[l] = np.random.randn(D,hidden[l])\n",
    "                B[l] = np.random.randn(hidden[l])\n",
    "            A[l] = activation(np.dot(X,W[l])+B[l])\n",
    "        \n",
    "        elif l==L:\n",
    "            if i==0:\n",
    "                W[l] = np.random.randn(hidden[l-1],K)\n",
    "                B[l] = np.random.randn(K)\n",
    "            A[l] = softmax(np.dot(A[l-1],W[l])+B[l])\n",
    "            Y = A[l]\n",
    "        \n",
    "        else:\n",
    "            if i==0:\n",
    "                W[l] = np.random.randn(hidden[l-1],hidden[l])\n",
    "                B[l] = np.random.randn(hidden[l])\n",
    "            A[l] = activation(np.dot(A[l-1],W[l])+B[l])\n",
    "    \n",
    "    return W,B,A,Y"
   ]
  },
  {
   "cell_type": "code",
   "execution_count": 19,
   "metadata": {},
   "outputs": [],
   "source": [
    "def backprop(X,T,Y,hidden,activation,lr,W,B,A):\n",
    "    L = len(hidden)\n",
    "    E,delta = {},{}\n",
    "    \n",
    "    # Error and Gradient Calculation\n",
    "    for l in range(L,-1,-1):\n",
    "        if l==L:\n",
    "            E[l] = T-Y\n",
    "            delta[l] = E[l] # softmax derivative\n",
    "        \n",
    "        else:\n",
    "            E[l] = np.dot(delta[l+1],W[l+1].T)\n",
    "            delta[l] = E[l]*nonlinearDeri(A[l], activation.__name__)\n",
    "    \n",
    "    # Weights update\n",
    "    for l in range(L+1):\n",
    "        if l==0:\n",
    "            W[l] += lr*np.dot(X.T, delta[l])\n",
    "            B[l] += lr*np.sum(delta[l], axis=0)\n",
    "        else:\n",
    "            W[l] += lr*np.dot(A[l-1].T, delta[l])\n",
    "            B[l] += lr*np.sum(delta[l], axis=0)\n",
    "            \n",
    "    return W,B"
   ]
  },
  {
   "cell_type": "code",
   "execution_count": 90,
   "metadata": {},
   "outputs": [],
   "source": [
    "def fit(X,T,Xtest,Ytest,hidden,activation,lr,iterations,batch_size,seed):\n",
    "    N = X.shape[0]\n",
    "    T = oneHotEncode(T)\n",
    "    Ttest = oneHotEncode(Ytest)\n",
    "    \n",
    "    W,B,A = {},{},{}\n",
    "    Ctrain, Ctest = [], []\n",
    "    \n",
    "    n_batches = math.ceil(N / batch_size)\n",
    "    \n",
    "    for i in range(iterations):\n",
    "        for j in range(n_batches):\n",
    "            start = batch_size*j\n",
    "            end = batch_size*(j+1) if j<n_batches else N\n",
    "        \n",
    "            W, B, A, Y = forward(X[start:end],T[start:end],hidden,activation,W,B,A,i,seed)\n",
    "            W, B = backprop(X[start:end],T[start:end],Y,hidden,activation,lr,W,B,A)\n",
    "            _,_,_,Y_test = forward(Xtest,Ttest,hidden,activation,W,B,A,2,seed)\n",
    "\n",
    "            sys.stdout.write(\"\\nIteration: {} | Batch: {} | Training Cost: {} | Test Cost: {}\".format(i+1,j+1, str(cost(T[start:end],Y))[:6], str(cost(Ttest,Y_test))[:6]))\n",
    "            \n",
    "        Ctrain.append(cost(T[start:end],Y))\n",
    "        Ctest.append(cost(Ttest,Y_test))\n",
    "        \n",
    "    _,_,_,Y = forward(X,T,hidden,activation,W,B,A,2,seed) # Prediction for all training samples\n",
    "    Yhat = predict(Y)\n",
    "    Yhat_test = predict(Y_test)\n",
    "    \n",
    "    return Ctrain,Ctest,W,B,Yhat,Yhat_test"
   ]
  },
  {
   "cell_type": "code",
   "execution_count": 91,
   "metadata": {},
   "outputs": [],
   "source": [
    "def accuracy(t,y):\n",
    "    return np.mean(t==y)"
   ]
  },
  {
   "cell_type": "code",
   "execution_count": null,
   "metadata": {},
   "outputs": [
    {
     "name": "stdout",
     "output_type": "stream",
     "text": [
      "\n",
      "Iteration: 1 | Batch: 1 | Training Cost: 413349 | Test Cost: 5759.4\n",
      "Iteration: 2 | Batch: 1 | Training Cost: 337018 | Test Cost: 5113.9\n",
      "Iteration: 3 | Batch: 1 | Training Cost: 300735 | Test Cost: 4749.7\n",
      "Iteration: 4 | Batch: 1 | Training Cost: 281555 | Test Cost: 4463.5\n",
      "Iteration: 5 | Batch: 1 | Training Cost: 265593 | Test Cost: 4204.3\n",
      "Iteration: 6 | Batch: 1 | Training Cost: 251103 | Test Cost: 3968.3\n",
      "Iteration: 7 | Batch: 1 | Training Cost: 237954 | Test Cost: 3753.4\n",
      "Iteration: 8 | Batch: 1 | Training Cost: 226029 | Test Cost: 3558.1\n",
      "Iteration: 9 | Batch: 1 | Training Cost: 215211 | Test Cost: 3380.3\n",
      "Iteration: 10 | Batch: 1 | Training Cost: 205386 | Test Cost: 3218.3\n",
      "Iteration: 11 | Batch: 1 | Training Cost: 196448 | Test Cost: 3070.2\n",
      "Iteration: 12 | Batch: 1 | Training Cost: 188296 | Test Cost: 2934.4\n",
      "Iteration: 13 | Batch: 1 | Training Cost: 180843 | Test Cost: 2809.5\n",
      "Iteration: 14 | Batch: 1 | Training Cost: 174011 | Test Cost: 2694.2\n",
      "Iteration: 15 | Batch: 1 | Training Cost: 167729 | Test Cost: 2587.7\n",
      "Iteration: 16 | Batch: 1 | Training Cost: 161940 | Test Cost: 2489.0\n",
      "Iteration: 17 | Batch: 1 | Training Cost: 156590 | Test Cost: 2397.5\n",
      "Iteration: 18 | Batch: 1 | Training Cost: 151634 | Test Cost: 2312.5\n",
      "Iteration: 19 | Batch: 1 | Training Cost: 147032 | Test Cost: 2233.6\n",
      "Iteration: 20 | Batch: 1 | Training Cost: 142749 | Test Cost: 2160.1\n",
      "Iteration: 21 | Batch: 1 | Training Cost: 138754 | Test Cost: 2091.5\n",
      "Iteration: 22 | Batch: 1 | Training Cost: 135018 | Test Cost: 2027.5\n",
      "Iteration: 23 | Batch: 1 | Training Cost: 131519 | Test Cost: 1967.5\n",
      "Iteration: 24 | Batch: 1 | Training Cost: 128235 | Test Cost: 1911.3\n",
      "Iteration: 25 | Batch: 1 | Training Cost: 125147 | Test Cost: 1858.4\n",
      "Iteration: 26 | Batch: 1 | Training Cost: 122238 | Test Cost: 1808.7\n",
      "Iteration: 27 | Batch: 1 | Training Cost: 119493 | Test Cost: 1761.8\n",
      "Iteration: 28 | Batch: 1 | Training Cost: 116898 | Test Cost: 1717.5\n",
      "Iteration: 29 | Batch: 1 | Training Cost: 114442 | Test Cost: 1675.7\n",
      "Iteration: 30 | Batch: 1 | Training Cost: 112113 | Test Cost: 1636.0\n",
      "Iteration: 31 | Batch: 1 | Training Cost: 109903 | Test Cost: 1598.5\n",
      "Iteration: 32 | Batch: 1 | Training Cost: 107802 | Test Cost: 1562.8\n",
      "Iteration: 33 | Batch: 1 | Training Cost: 105802 | Test Cost: 1529.0\n",
      "Iteration: 34 | Batch: 1 | Training Cost: 103895 | Test Cost: 1496.8\n",
      "Iteration: 35 | Batch: 1 | Training Cost: 102077 | Test Cost: 1466.2\n",
      "Iteration: 36 | Batch: 1 | Training Cost: 100339 | Test Cost: 1437.0\n",
      "Iteration: 37 | Batch: 1 | Training Cost: 98678. | Test Cost: 1409.2\n",
      "Iteration: 38 | Batch: 1 | Training Cost: 97088. | Test Cost: 1382.6\n",
      "Iteration: 39 | Batch: 1 | Training Cost: 95565. | Test Cost: 1357.3\n",
      "Iteration: 40 | Batch: 1 | Training Cost: 94104. | Test Cost: 1333.0\n",
      "Iteration: 41 | Batch: 1 | Training Cost: 92702. | Test Cost: 1309.8\n",
      "Iteration: 42 | Batch: 1 | Training Cost: 91355. | Test Cost: 1287.6\n",
      "Iteration: 43 | Batch: 1 | Training Cost: 90060. | Test Cost: 1266.3\n",
      "Iteration: 44 | Batch: 1 | Training Cost: 88814. | Test Cost: 1245.9\n",
      "Iteration: 45 | Batch: 1 | Training Cost: 87615. | Test Cost: 1226.4\n",
      "Iteration: 46 | Batch: 1 | Training Cost: 86459. | Test Cost: 1207.6\n",
      "Iteration: 47 | Batch: 1 | Training Cost: 85345. | Test Cost: 1189.5\n",
      "Iteration: 48 | Batch: 1 | Training Cost: 84270. | Test Cost: 1172.1\n",
      "Iteration: 49 | Batch: 1 | Training Cost: 83232. | Test Cost: 1155.4\n",
      "Iteration: 50 | Batch: 1 | Training Cost: 82229. | Test Cost: 1139.3\n",
      "Iteration: 51 | Batch: 1 | Training Cost: 81260. | Test Cost: 1123.8\n",
      "Iteration: 52 | Batch: 1 | Training Cost: 80322. | Test Cost: 1108.9\n",
      "Iteration: 53 | Batch: 1 | Training Cost: 79415. | Test Cost: 1094.4\n",
      "Iteration: 54 | Batch: 1 | Training Cost: 78537. | Test Cost: 1080.5\n",
      "Iteration: 55 | Batch: 1 | Training Cost: 77686. | Test Cost: 1067.1\n",
      "Iteration: 56 | Batch: 1 | Training Cost: 76861. | Test Cost: 1054.1\n",
      "Iteration: 57 | Batch: 1 | Training Cost: 76061. | Test Cost: 1041.5\n",
      "Iteration: 58 | Batch: 1 | Training Cost: 75285. | Test Cost: 1029.4\n",
      "Iteration: 59 | Batch: 1 | Training Cost: 74532. | Test Cost: 1017.7\n",
      "Iteration: 60 | Batch: 1 | Training Cost: 73800. | Test Cost: 1006.3\n",
      "Iteration: 61 | Batch: 1 | Training Cost: 73090. | Test Cost: 995.32\n",
      "Iteration: 62 | Batch: 1 | Training Cost: 72399. | Test Cost: 984.65\n",
      "Iteration: 63 | Batch: 1 | Training Cost: 71727. | Test Cost: 974.31"
     ]
    }
   ],
   "source": [
    "size = Xtrain.shape[0] # Full Batch\n",
    "ctrain_full, ctest_full, w, b, Yhat, Yhat_test = fit(Xtrain,Ytrain,Xtest,Ytest,[100],sigmoid,lr=0.00001,iterations=50000,batch_size=size,seed=1)\n",
    "print(\"\\n\\nTraining Accuracy: {}%\".format(accuracy(Ytrain, Yhat)*100))\n",
    "print(\"Testing Accuracy: {}%\".format(accuracy(Ytest, Yhat_test)*100))"
   ]
  },
  {
   "cell_type": "code",
   "execution_count": null,
   "metadata": {},
   "outputs": [],
   "source": [
    "size=10000\n",
    "ctrain_batch, ctest_batch, w, b, Yhat, Yhat_test = fit(Xtrain,Ytrain,Xtest,Ytest,[100],sigmoid,lr=0.00001,iterations=50000,batch_size=size,seed=1)\n",
    "print(\"\\n\\nTraining Accuracy: {}%\".format(accuracy(Ytrain, Yhat)*100))\n",
    "print(\"Testing Accuracy: {}%\".format(accuracy(Ytest, Yhat_test)*100))"
   ]
  },
  {
   "cell_type": "code",
   "execution_count": 108,
   "metadata": {},
   "outputs": [
    {
     "data": {
      "image/png": "[encoded data removed]",
      "text/plain": [
       "<Figure size 576x576 with 1 Axes>"
      ]
     },
     "metadata": {
      "needs_background": "light"
     },
     "output_type": "display_data"
    }
   ],
   "source": [
    "plt.figure(figsize=(8,8))\n",
    "plt.title(\"Cost Plot\", fontsize=15)\n",
    "plt.plot(ctest_full, label=\"Full GD\")\n",
    "plt.plot(ctest_batch, label=\"Batch GD\")\n",
    "plt.legend(fontsize=15)\n",
    "plt.show()"
   ]
  },
  {
   "cell_type": "code",
   "execution_count": null,
   "metadata": {},
   "outputs": [],
   "source": []
  }
 ],
 "metadata": {
  "kernelspec": {
   "display_name": "Python 3",
   "language": "python",
   "name": "python3"
  },
  "language_info": {
   "codemirror_mode": {
    "name": "ipython",
    "version": 3
   },
   "file_extension": ".py",
   "mimetype": "text/x-python",
   "name": "python",
   "nbconvert_exporter": "python",
   "pygments_lexer": "ipython3",
   "version": "3.7.9"
  }
 },
 "nbformat": 4,
 "nbformat_minor": 4
}
