{
 "cells": [
  {
   "cell_type": "markdown",
   "metadata": {},
   "source": [
    "# MNIST Handwritten Digits Classifier using DNN"
   ]
  },
  {
   "cell_type": "code",
   "execution_count": 107,
   "metadata": {},
   "outputs": [],
   "source": [
    "# import packages\n",
    "import numpy as np\n",
    "import pandas as pd\n",
    "import matplotlib.pyplot as plt\n",
    "from sklearn.utils import shuffle\n",
    "import sys, os\n",
    "%matplotlib inline"
   ]
  },
  {
   "cell_type": "code",
   "execution_count": 2,
   "metadata": {},
   "outputs": [],
   "source": [
    "# Load the Training and Test data\n",
    "dfTrain = pd.read_csv(\"..\\..\\DataSet\\mnist_train.csv\", encoding=\"UTF-8\")\n",
    "dfTest = pd.read_csv(\"..\\..\\DataSet\\mnist_test.csv\", encoding=\"UTF-8\")"
   ]
  },
  {
   "cell_type": "code",
   "execution_count": 3,
   "metadata": {},
   "outputs": [
    {
     "data": {
      "text/html": [
       "<div>\n",
       "<style scoped>\n",
       "    .dataframe tbody tr th:only-of-type {\n",
       "        vertical-align: middle;\n",
       "    }\n",
       "\n",
       "    .dataframe tbody tr th {\n",
       "        vertical-align: top;\n",
       "    }\n",
       "\n",
       "    .dataframe thead th {\n",
       "        text-align: right;\n",
       "    }\n",
       "</style>\n",
       "<table border=\"1\" class=\"dataframe\">\n",
       "  <thead>\n",
       "    <tr style=\"text-align: right;\">\n",
       "      <th></th>\n",
       "      <th>label</th>\n",
       "      <th>1x1</th>\n",
       "      <th>1x2</th>\n",
       "      <th>1x3</th>\n",
       "      <th>1x4</th>\n",
       "      <th>1x5</th>\n",
       "      <th>1x6</th>\n",
       "      <th>1x7</th>\n",
       "      <th>1x8</th>\n",
       "      <th>1x9</th>\n",
       "      <th>...</th>\n",
       "      <th>28x19</th>\n",
       "      <th>28x20</th>\n",
       "      <th>28x21</th>\n",
       "      <th>28x22</th>\n",
       "      <th>28x23</th>\n",
       "      <th>28x24</th>\n",
       "      <th>28x25</th>\n",
       "      <th>28x26</th>\n",
       "      <th>28x27</th>\n",
       "      <th>28x28</th>\n",
       "    </tr>\n",
       "  </thead>\n",
       "  <tbody>\n",
       "    <tr>\n",
       "      <th>0</th>\n",
       "      <td>5</td>\n",
       "      <td>0</td>\n",
       "      <td>0</td>\n",
       "      <td>0</td>\n",
       "      <td>0</td>\n",
       "      <td>0</td>\n",
       "      <td>0</td>\n",
       "      <td>0</td>\n",
       "      <td>0</td>\n",
       "      <td>0</td>\n",
       "      <td>...</td>\n",
       "      <td>0</td>\n",
       "      <td>0</td>\n",
       "      <td>0</td>\n",
       "      <td>0</td>\n",
       "      <td>0</td>\n",
       "      <td>0</td>\n",
       "      <td>0</td>\n",
       "      <td>0</td>\n",
       "      <td>0</td>\n",
       "      <td>0</td>\n",
       "    </tr>\n",
       "    <tr>\n",
       "      <th>1</th>\n",
       "      <td>0</td>\n",
       "      <td>0</td>\n",
       "      <td>0</td>\n",
       "      <td>0</td>\n",
       "      <td>0</td>\n",
       "      <td>0</td>\n",
       "      <td>0</td>\n",
       "      <td>0</td>\n",
       "      <td>0</td>\n",
       "      <td>0</td>\n",
       "      <td>...</td>\n",
       "      <td>0</td>\n",
       "      <td>0</td>\n",
       "      <td>0</td>\n",
       "      <td>0</td>\n",
       "      <td>0</td>\n",
       "      <td>0</td>\n",
       "      <td>0</td>\n",
       "      <td>0</td>\n",
       "      <td>0</td>\n",
       "      <td>0</td>\n",
       "    </tr>\n",
       "    <tr>\n",
       "      <th>2</th>\n",
       "      <td>4</td>\n",
       "      <td>0</td>\n",
       "      <td>0</td>\n",
       "      <td>0</td>\n",
       "      <td>0</td>\n",
       "      <td>0</td>\n",
       "      <td>0</td>\n",
       "      <td>0</td>\n",
       "      <td>0</td>\n",
       "      <td>0</td>\n",
       "      <td>...</td>\n",
       "      <td>0</td>\n",
       "      <td>0</td>\n",
       "      <td>0</td>\n",
       "      <td>0</td>\n",
       "      <td>0</td>\n",
       "      <td>0</td>\n",
       "      <td>0</td>\n",
       "      <td>0</td>\n",
       "      <td>0</td>\n",
       "      <td>0</td>\n",
       "    </tr>\n",
       "    <tr>\n",
       "      <th>3</th>\n",
       "      <td>1</td>\n",
       "      <td>0</td>\n",
       "      <td>0</td>\n",
       "      <td>0</td>\n",
       "      <td>0</td>\n",
       "      <td>0</td>\n",
       "      <td>0</td>\n",
       "      <td>0</td>\n",
       "      <td>0</td>\n",
       "      <td>0</td>\n",
       "      <td>...</td>\n",
       "      <td>0</td>\n",
       "      <td>0</td>\n",
       "      <td>0</td>\n",
       "      <td>0</td>\n",
       "      <td>0</td>\n",
       "      <td>0</td>\n",
       "      <td>0</td>\n",
       "      <td>0</td>\n",
       "      <td>0</td>\n",
       "      <td>0</td>\n",
       "    </tr>\n",
       "    <tr>\n",
       "      <th>4</th>\n",
       "      <td>9</td>\n",
       "      <td>0</td>\n",
       "      <td>0</td>\n",
       "      <td>0</td>\n",
       "      <td>0</td>\n",
       "      <td>0</td>\n",
       "      <td>0</td>\n",
       "      <td>0</td>\n",
       "      <td>0</td>\n",
       "      <td>0</td>\n",
       "      <td>...</td>\n",
       "      <td>0</td>\n",
       "      <td>0</td>\n",
       "      <td>0</td>\n",
       "      <td>0</td>\n",
       "      <td>0</td>\n",
       "      <td>0</td>\n",
       "      <td>0</td>\n",
       "      <td>0</td>\n",
       "      <td>0</td>\n",
       "      <td>0</td>\n",
       "    </tr>\n",
       "  </tbody>\n",
       "</table>\n",
       "<p>5 rows × 785 columns</p>\n",
       "</div>"
      ],
      "text/plain": [
       "   label  1x1  1x2  1x3  1x4  1x5  1x6  1x7  1x8  1x9  ...  28x19  28x20  \\\n",
       "0      5    0    0    0    0    0    0    0    0    0  ...      0      0   \n",
       "1      0    0    0    0    0    0    0    0    0    0  ...      0      0   \n",
       "2      4    0    0    0    0    0    0    0    0    0  ...      0      0   \n",
       "3      1    0    0    0    0    0    0    0    0    0  ...      0      0   \n",
       "4      9    0    0    0    0    0    0    0    0    0  ...      0      0   \n",
       "\n",
       "   28x21  28x22  28x23  28x24  28x25  28x26  28x27  28x28  \n",
       "0      0      0      0      0      0      0      0      0  \n",
       "1      0      0      0      0      0      0      0      0  \n",
       "2      0      0      0      0      0      0      0      0  \n",
       "3      0      0      0      0      0      0      0      0  \n",
       "4      0      0      0      0      0      0      0      0  \n",
       "\n",
       "[5 rows x 785 columns]"
      ]
     },
     "execution_count": 3,
     "metadata": {},
     "output_type": "execute_result"
    }
   ],
   "source": [
    "dfTrain.head()"
   ]
  },
  {
   "cell_type": "code",
   "execution_count": 406,
   "metadata": {},
   "outputs": [],
   "source": [
    "# Train Test Split\n",
    "Xtrain, Xtest = dfTrain.iloc[:,1:].to_numpy(), dfTest.iloc[:,1:].to_numpy()\n",
    "Ytrain, Ytest = dfTrain.iloc[:,0].to_numpy(), dfTest.iloc[:,0].to_numpy()"
   ]
  },
  {
   "cell_type": "code",
   "execution_count": 407,
   "metadata": {},
   "outputs": [],
   "source": [
    "# Range the pixel values 0 to 1\n",
    "Xtrain = Xtrain / 255.0\n",
    "Xtest = Xtest / 255.0"
   ]
  },
  {
   "cell_type": "code",
   "execution_count": 26,
   "metadata": {},
   "outputs": [
    {
     "name": "stdout",
     "output_type": "stream",
     "text": [
      "(60000, 784) (60000,)\n"
     ]
    }
   ],
   "source": [
    "print(Xtrain.shape, Ytrain.shape)"
   ]
  },
  {
   "cell_type": "code",
   "execution_count": 6,
   "metadata": {},
   "outputs": [],
   "source": [
    "# Shuffle the data prior training\n",
    "Xtrain, Ytrain = shuffle(Xtrain, Ytrain, random_state=1)"
   ]
  },
  {
   "cell_type": "code",
   "execution_count": 7,
   "metadata": {},
   "outputs": [],
   "source": [
    "# show image func\n",
    "def showImage(x, y):\n",
    "    z = x.reshape(28,28)\n",
    "    plt.title(\"Digit: \" + str(y))\n",
    "    plt.imshow(z)"
   ]
  },
  {
   "cell_type": "code",
   "execution_count": 28,
   "metadata": {},
   "outputs": [
    {
     "data": {
      "image/png": "[encoded data removed]",
      "text/plain": [
       "<Figure size 432x288 with 1 Axes>"
      ]
     },
     "metadata": {
      "needs_background": "light"
     },
     "output_type": "display_data"
    }
   ],
   "source": [
    "# Sample photo\n",
    "photo = 0\n",
    "showImage(Xtrain[photo], Ytrain[photo])"
   ]
  },
  {
   "cell_type": "code",
   "execution_count": 9,
   "metadata": {},
   "outputs": [],
   "source": [
    "def oneHotEncode(y):\n",
    "    # Target index matrix from Ytrain\n",
    "    T = np.zeros((y.shape[0], np.unique(y).shape[0]))\n",
    "\n",
    "    for i,val in enumerate(y):\n",
    "        T[i,val] = 1\n",
    "\n",
    "    return T"
   ]
  },
  {
   "cell_type": "code",
   "execution_count": 34,
   "metadata": {},
   "outputs": [],
   "source": [
    "def sigmoid(z):\n",
    "    return 1 / (1 + np.exp(-z))"
   ]
  },
  {
   "cell_type": "code",
   "execution_count": 11,
   "metadata": {},
   "outputs": [],
   "source": [
    "def tanh(z):\n",
    "    return (np.exp(z)-np.exp(-z)) / (np.exp(z)+np.exp(-z))"
   ]
  },
  {
   "cell_type": "code",
   "execution_count": 95,
   "metadata": {},
   "outputs": [],
   "source": [
    "def softmax(z):\n",
    "    return np.exp(z) / np.sum(np.exp(z), axis=1, keepdims=True)"
   ]
  },
  {
   "cell_type": "code",
   "execution_count": 13,
   "metadata": {},
   "outputs": [],
   "source": [
    "def nonlinearDT(z, func):\n",
    "    if func == \"sigmoid\":\n",
    "        return z*(1-z)\n",
    "    if func == \"tanh\":\n",
    "        return (1-z**2)"
   ]
  },
  {
   "cell_type": "code",
   "execution_count": 14,
   "metadata": {},
   "outputs": [],
   "source": [
    "def cost(t,y):\n",
    "    return -np.mean(t*np.log(y))"
   ]
  },
  {
   "cell_type": "code",
   "execution_count": 319,
   "metadata": {},
   "outputs": [],
   "source": [
    "def forwardProp(X,T,h_layers,lr,activation_func,W,B,A,n,random_state):\n",
    "\n",
    "    D = X.shape[1] # N.Input nodes\n",
    "    K = T.shape[1] # N.Output nodes\n",
    "    L = len(h_layers) # N.Hidden Layers\n",
    "    np.random.seed(random_state) # Seed\n",
    "\n",
    "    for i in range(L+1): # including output layer\n",
    "        if i==0: # At First Layer\n",
    "            if n==0:\n",
    "                W[i] = np.random.randn(D,h_layers[i])\n",
    "                B[i]  = np.random.randn(h_layers[i])\n",
    "            Z = np.dot(X, W[i]) + B[i]\n",
    "            A[i] = activation_func(Z)\n",
    "            \n",
    "        elif i==L: # At Last Layer\n",
    "            if n==0:\n",
    "                W[i] = np.random.randn(h_layers[i-1], K)\n",
    "                B[i] = np.random.randn(K)\n",
    "            Z = np.dot(A[i-1], W[i]) + B[i]\n",
    "            A[i] = softmax(Z) # Multiclass Classification\n",
    "\n",
    "        else: # At Middle Layers\n",
    "            if n==0:\n",
    "                W[i] = np.random.randn(h_layers[i-1], h_layers[i])\n",
    "                B[i] = np.random.randn(h_layers[i])\n",
    "            Z = np.dot(A[i-1], W[i]) + B[i]\n",
    "            A[i] = activation_func(Z)\n",
    "            \n",
    "    return W,B,A"
   ]
  },
  {
   "cell_type": "code",
   "execution_count": 342,
   "metadata": {},
   "outputs": [],
   "source": [
    "def backProp(X,T,h_layers,lr,activation_func,W,B,A):\n",
    "    \n",
    "    Y = A[list(A.keys())[-1]] # Predicted Output\n",
    "    L = len(h_layers) # N.Hidden Layers\n",
    "    error, delta = {}, {}\n",
    "    \n",
    "    for i in range(L,-1,-1):\n",
    "        if i==L: # At Last Layer\n",
    "            error[i] = T-Y\n",
    "            delta[i] = error[i] # softmax layer\n",
    "            W[i] += lr*np.dot(A[i-1].T, delta[i])\n",
    "            B[i] += lr*np.sum(delta[i], axis=0)\n",
    "            #print(B[i])\n",
    "        elif i==0: # At First Layer\n",
    "            error[i] = np.dot(delta[i+1], W[i+1].T)\n",
    "            delta[i] = error[i]*nonlinearDT(A[i], activation_func.__name__)\n",
    "            W[i] += lr*np.dot(X.T, delta[i])\n",
    "            B[i] += lr*np.sum(delta[i], axis=0)\n",
    "            \n",
    "        else: # At Middle Layers\n",
    "            error[i] = np.dot(delta[i+1], W[i+1].T)\n",
    "            delta[i] = error[i]*nonlinearDT(A[i], activation_func.__name__)\n",
    "            W[i] += lr*np.dot(A[i-1].T, delta[i])\n",
    "            B[i] += lr*np.sum(delta[i], axis=0)\n",
    "            \n",
    "    return W, B, Y"
   ]
  },
  {
   "cell_type": "code",
   "execution_count": 397,
   "metadata": {},
   "outputs": [],
   "source": [
    "def fit(X, Y, h_layers=[2], lr=0.01, activation_func=sigmoid, iterations=100, random_state=1):\n",
    "    \n",
    "    T = oneHotEncode(Y) # Apply One hot encoding\n",
    "    W, B, A = {}, {}, {} # weights, biases and outputs at each layers\n",
    "    c = [] # Cost\n",
    "    \n",
    "    for n in range(iterations):\n",
    "        W, B, A = forwardProp(X,T,h_layers,lr,activation_func,W,B,A,n,random_state)\n",
    "        W, B, Y = backProp(X,T,h_layers,lr,activation_func,W,B,A)\n",
    "        c.append(cost(T,Y))\n",
    "    \n",
    "    Yhat = predict(Y) # Final Prediction for Training Data\n",
    "    \n",
    "    return c, Yhat, W, B"
   ]
  },
  {
   "cell_type": "code",
   "execution_count": 332,
   "metadata": {},
   "outputs": [],
   "source": [
    "def predict(y):\n",
    "    return np.argmax(y, axis=1)"
   ]
  },
  {
   "cell_type": "code",
   "execution_count": 333,
   "metadata": {},
   "outputs": [],
   "source": [
    "def accuracy(y, yhat):\n",
    "    return np.mean(y==yhat)"
   ]
  },
  {
   "cell_type": "code",
   "execution_count": 398,
   "metadata": {},
   "outputs": [],
   "source": [
    "# Train DNN\n",
    "C, Yhat, W, B = fit(Xtrain, Ytrain, h_layers=[100], lr=0.00001, activation_func=sigmoid, iterations=100000, random_state=1)"
   ]
  },
  {
   "cell_type": "code",
   "execution_count": 419,
   "metadata": {},
   "outputs": [],
   "source": [
    "# Test predictions\n",
    "Z = np.dot(Xtest, W[0])\n",
    "a = sigmoid(Z)\n",
    "Yhat_test = predict(softmax(np.dot(a, W[1])))"
   ]
  },
  {
   "cell_type": "code",
   "execution_count": 420,
   "metadata": {},
   "outputs": [
    {
     "name": "stdout",
     "output_type": "stream",
     "text": [
      "Training Accuracy: 99.98166666666667%\n",
      "Testing Accuracy: 94.53%\n"
     ]
    }
   ],
   "source": [
    "# Accuracy\n",
    "train_result = accuracy(Ytrain, Yhat)\n",
    "test_result = accuracy(Ytest, Yhat_test)\n",
    "print(\"Training Accuracy: {}%\".format(train_result*100))\n",
    "print(\"Testing Accuracy: {}%\".format(test_result*100))"
   ]
  },
  {
   "cell_type": "code",
   "execution_count": 400,
   "metadata": {},
   "outputs": [
    {
     "data": {
      "image/png": "[encoded data removed]",
      "text/plain": [
       "<Figure size 432x432 with 1 Axes>"
      ]
     },
     "metadata": {
      "needs_background": "light"
     },
     "output_type": "display_data"
    }
   ],
   "source": [
    "# Cost plot\n",
    "plt.figure(figsize=(6,6))\n",
    "plt.plot(C)\n",
    "plt.show()"
   ]
  },
  {
   "cell_type": "code",
   "execution_count": 421,
   "metadata": {},
   "outputs": [
    {
     "data": {
      "image/png": "[encoded data removed]",
      "text/plain": [
       "<Figure size 720x720 with 8 Axes>"
      ]
     },
     "metadata": {
      "needs_background": "light"
     },
     "output_type": "display_data"
    }
   ],
   "source": [
    "# Predicting Test Images\n",
    "plt.figure(figsize=(10,10))\n",
    "for i in range(1,9,1):\n",
    "    p = str(4)+str(4)+str(i)\n",
    "    k = int(p)\n",
    "    plt.subplot(k)\n",
    "    showImage(Xtest[i], Yhat_test[i])"
   ]
  },
  {
   "cell_type": "code",
   "execution_count": null,
   "metadata": {},
   "outputs": [],
   "source": []
  }
 ],
 "metadata": {
  "kernelspec": {
   "display_name": "Python 3",
   "language": "python",
   "name": "python3"
  },
  "language_info": {
   "codemirror_mode": {
    "name": "ipython",
    "version": 3
   },
   "file_extension": ".py",
   "mimetype": "text/x-python",
   "name": "python",
   "nbconvert_exporter": "python",
   "pygments_lexer": "ipython3",
   "version": "3.7.9"
  }
 },
 "nbformat": 4,
 "nbformat_minor": 4
}
