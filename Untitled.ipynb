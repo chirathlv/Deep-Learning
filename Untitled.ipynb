{
 "cells": [
  {
   "cell_type": "code",
   "execution_count": 1,
   "metadata": {},
   "outputs": [],
   "source": [
    "# import packages\n",
    "import numpy as np\n",
    "import pandas as pd\n",
    "import matplotlib.pyplot as plt\n",
    "%matplotlib inline"
   ]
  },
  {
   "cell_type": "code",
   "execution_count": 2,
   "metadata": {},
   "outputs": [],
   "source": [
    "# load the dataset\n",
    "df = pd.read_csv(\".\\Datasets\\ecommerce_data.csv\", encoding=\"UTF-8\")"
   ]
  },
  {
   "cell_type": "code",
   "execution_count": 3,
   "metadata": {},
   "outputs": [],
   "source": [
    "# Normalize the n_products_viewed and visit_duration columns\n",
    "df[\"n_products_viewed\"] = (df[\"n_products_viewed\"] - df[\"n_products_viewed\"].mean()) / df[\"n_products_viewed\"].std()\n",
    "df[\"visit_duration\"] = (df[\"visit_duration\"] - df[\"visit_duration\"].mean()) / df[\"visit_duration\"].std()"
   ]
  },
  {
   "cell_type": "code",
   "execution_count": 4,
   "metadata": {},
   "outputs": [],
   "source": [
    "# input and output features\n",
    "X = df.iloc[:,:-1].to_numpy()\n",
    "Y = df.iloc[:,-1].to_numpy()"
   ]
  },
  {
   "cell_type": "code",
   "execution_count": 5,
   "metadata": {},
   "outputs": [],
   "source": [
    "# Apply one hot encoding to \"time_of_day\" column\n",
    "V = np.zeros((X.shape[0], (X[:,-1].max()+1).astype(np.int32)))\n",
    "\n",
    "for i,j in enumerate(X[:,-1]):\n",
    "    V[i,int(j)] = 1\n",
    "    \n",
    "X = np.concatenate((X[:,:-1].reshape(X.shape[0],X.shape[1]-1),V), axis=1)"
   ]
  },
  {
   "cell_type": "code",
   "execution_count": 6,
   "metadata": {},
   "outputs": [],
   "source": [
    "# Apply one hot encoding to Y and take as T\n",
    "T = np.zeros((Y.shape[0], np.unique(Y).shape[0]))\n",
    "\n",
    "for i,j in enumerate(Y):\n",
    "    T[i,j] = 1"
   ]
  },
  {
   "cell_type": "code",
   "execution_count": 21,
   "metadata": {},
   "outputs": [],
   "source": [
    "def oneHotEncode(y):\n",
    "    # Target index matrix from Ytrain\n",
    "    T = np.zeros((y.shape[0], np.unique(y).shape[0]))\n",
    "\n",
    "    for i,val in enumerate(y):\n",
    "        T[i,val] = 1\n",
    "\n",
    "    return T"
   ]
  },
  {
   "cell_type": "code",
   "execution_count": 22,
   "metadata": {},
   "outputs": [],
   "source": [
    "def nonlinearDT(z, func):\n",
    "    if func == \"sigmoid\":\n",
    "        return z*(1-z)\n",
    "    if func == \"tanh\":\n",
    "        return (1-z**2)"
   ]
  },
  {
   "cell_type": "code",
   "execution_count": 7,
   "metadata": {},
   "outputs": [],
   "source": [
    "def sigmoid(z):\n",
    "    return 1 / (1 + np.exp(-z))"
   ]
  },
  {
   "cell_type": "code",
   "execution_count": 15,
   "metadata": {},
   "outputs": [],
   "source": [
    "def tanh(z):\n",
    "    return (np.exp(z)-np.exp(-z)) / (np.exp(z)+np.exp(-z))"
   ]
  },
  {
   "cell_type": "code",
   "execution_count": 14,
   "metadata": {},
   "outputs": [],
   "source": [
    "def softmax(z):\n",
    "    return np.exp(z) / np.sum(np.exp(z), axis=1, keepdims=True)"
   ]
  },
  {
   "cell_type": "code",
   "execution_count": 16,
   "metadata": {},
   "outputs": [],
   "source": [
    "def cost(t,y):\n",
    "    return -np.mean(t*np.log(y))"
   ]
  },
  {
   "cell_type": "code",
   "execution_count": 12,
   "metadata": {},
   "outputs": [],
   "source": [
    "def predict(y):\n",
    "    return np.argmax(y, axis=1)"
   ]
  },
  {
   "cell_type": "code",
   "execution_count": 13,
   "metadata": {},
   "outputs": [],
   "source": [
    "def accuracy(y, yhat):\n",
    "    return np.mean(y==yhat)"
   ]
  },
  {
   "cell_type": "code",
   "execution_count": 17,
   "metadata": {},
   "outputs": [],
   "source": [
    "def forwardProp(X,T,h_layers,lr,activation_func,W,B,A,n,random_state):\n",
    "\n",
    "    D = X.shape[1] # N.Input nodes\n",
    "    K = T.shape[1] # N.Output nodes\n",
    "    L = len(h_layers) # N.Hidden Layers\n",
    "    np.random.seed(random_state) # Seed\n",
    "\n",
    "    for i in range(L+1): # including output layer\n",
    "        if i==0: # At First Layer\n",
    "            if n==0:\n",
    "                W[i] = np.random.randn(D,h_layers[i])\n",
    "                B[i]  = np.random.randn(h_layers[i])\n",
    "            Z = np.dot(X, W[i]) + B[i]\n",
    "            A[i] = activation_func(Z)\n",
    "            \n",
    "        elif i==L: # At Last Layer\n",
    "            if n==0:\n",
    "                W[i] = np.random.randn(h_layers[i-1], K)\n",
    "                B[i] = np.random.randn(K)\n",
    "            Z = np.dot(A[i-1], W[i]) + B[i]\n",
    "            A[i] = softmax(Z) # Multiclass Classification\n",
    "\n",
    "        else: # At Middle Layers\n",
    "            if n==0:\n",
    "                W[i] = np.random.randn(h_layers[i-1], h_layers[i])\n",
    "                B[i] = np.random.randn(h_layers[i])\n",
    "            Z = np.dot(A[i-1], W[i]) + B[i]\n",
    "            A[i] = activation_func(Z)\n",
    "            \n",
    "    return W,B,A"
   ]
  },
  {
   "cell_type": "code",
   "execution_count": 18,
   "metadata": {},
   "outputs": [],
   "source": [
    "def backProp(X,T,h_layers,lr,activation_func,W,B,A):\n",
    "    \n",
    "    Y = A[list(A.keys())[-1]] # Predicted Output\n",
    "    L = len(h_layers) # N.Hidden Layers\n",
    "    error, delta = {}, {}\n",
    "    \n",
    "    for i in range(L,-1,-1):\n",
    "        if i==L: # At Last Layer\n",
    "            error[i] = T-Y\n",
    "            delta[i] = error[i] # softmax layer\n",
    "            W[i] += lr*np.dot(A[i-1].T, delta[i])\n",
    "            B[i] += lr*np.sum(delta[i], axis=0)\n",
    "            #print(B[i])\n",
    "        elif i==0: # At First Layer\n",
    "            error[i] = np.dot(delta[i+1], W[i+1].T)\n",
    "            delta[i] = error[i]*nonlinearDT(A[i], activation_func.__name__)\n",
    "            W[i] += lr*np.dot(X.T, delta[i])\n",
    "            B[i] += lr*np.sum(delta[i], axis=0)\n",
    "            \n",
    "        else: # At Middle Layers\n",
    "            error[i] = np.dot(delta[i+1], W[i+1].T)\n",
    "            delta[i] = error[i]*nonlinearDT(A[i], activation_func.__name__)\n",
    "            W[i] += lr*np.dot(A[i-1].T, delta[i])\n",
    "            B[i] += lr*np.sum(delta[i], axis=0)\n",
    "            \n",
    "    return W, B, Y"
   ]
  },
  {
   "cell_type": "code",
   "execution_count": 19,
   "metadata": {},
   "outputs": [],
   "source": [
    "def fit(X, Y, h_layers=[2], lr=0.01, activation_func=sigmoid, iterations=100, random_state=1):\n",
    "    \n",
    "    T = oneHotEncode(Y) # Apply One hot encoding\n",
    "    W, B, A = {}, {}, {} # weights, biases and outputs at each layers\n",
    "    c = [] # Cost\n",
    "    \n",
    "    for n in range(iterations):\n",
    "        W, B, A = forwardProp(X,T,h_layers,lr,activation_func,W,B,A,n,random_state)\n",
    "        W, B, Y = backProp(X,T,h_layers,lr,activation_func,W,B,A)\n",
    "        c.append(cost(T,Y))\n",
    "    \n",
    "    Yhat = predict(Y) # Final Prediction for Training Data\n",
    "    \n",
    "    return c,Yhat"
   ]
  },
  {
   "cell_type": "code",
   "execution_count": 23,
   "metadata": {},
   "outputs": [],
   "source": [
    "# Train DNN\n",
    "C, Yhat = fit(X, Y, h_layers=[5], lr=0.001, activation_func=tanh, iterations=10000, random_state=1)"
   ]
  },
  {
   "cell_type": "code",
   "execution_count": 24,
   "metadata": {},
   "outputs": [
    {
     "name": "stdout",
     "output_type": "stream",
     "text": [
      "Accuracy:  99.8\n"
     ]
    }
   ],
   "source": [
    "# accuracy\n",
    "results = accuracy(Y, Yhat)\n",
    "print(\"Accuracy: \", str(results*100))"
   ]
  },
  {
   "cell_type": "code",
   "execution_count": null,
   "metadata": {},
   "outputs": [],
   "source": []
  }
 ],
 "metadata": {
  "kernelspec": {
   "display_name": "Python 3",
   "language": "python",
   "name": "python3"
  },
  "language_info": {
   "codemirror_mode": {
    "name": "ipython",
    "version": 3
   },
   "file_extension": ".py",
   "mimetype": "text/x-python",
   "name": "python",
   "nbconvert_exporter": "python",
   "pygments_lexer": "ipython3",
   "version": "3.7.9"
  }
 },
 "nbformat": 4,
 "nbformat_minor": 4
}
