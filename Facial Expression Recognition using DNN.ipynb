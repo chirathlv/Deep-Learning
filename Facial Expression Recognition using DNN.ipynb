{
 "cells": [
  {
   "cell_type": "code",
   "execution_count": 42,
   "metadata": {},
   "outputs": [],
   "source": [
    "# import packages\n",
    "import numpy as np\n",
    "import pandas as pd\n",
    "import matplotlib.pyplot as plt\n",
    "from sklearn.utils import shuffle\n",
    "%matplotlib inline"
   ]
  },
  {
   "cell_type": "code",
   "execution_count": 3,
   "metadata": {},
   "outputs": [],
   "source": [
    "# Load the data\n",
    "df = pd.read_csv(\"../../DataSet/fer2013.csv\")"
   ]
  },
  {
   "cell_type": "code",
   "execution_count": 5,
   "metadata": {},
   "outputs": [
    {
     "data": {
      "text/html": [
       "<div>\n",
       "<style scoped>\n",
       "    .dataframe tbody tr th:only-of-type {\n",
       "        vertical-align: middle;\n",
       "    }\n",
       "\n",
       "    .dataframe tbody tr th {\n",
       "        vertical-align: top;\n",
       "    }\n",
       "\n",
       "    .dataframe thead th {\n",
       "        text-align: right;\n",
       "    }\n",
       "</style>\n",
       "<table border=\"1\" class=\"dataframe\">\n",
       "  <thead>\n",
       "    <tr style=\"text-align: right;\">\n",
       "      <th></th>\n",
       "      <th>emotion</th>\n",
       "      <th>pixels</th>\n",
       "      <th>Usage</th>\n",
       "    </tr>\n",
       "  </thead>\n",
       "  <tbody>\n",
       "    <tr>\n",
       "      <th>0</th>\n",
       "      <td>0</td>\n",
       "      <td>70 80 82 72 58 58 60 63 54 58 60 48 89 115 121...</td>\n",
       "      <td>Training</td>\n",
       "    </tr>\n",
       "    <tr>\n",
       "      <th>1</th>\n",
       "      <td>0</td>\n",
       "      <td>151 150 147 155 148 133 111 140 170 174 182 15...</td>\n",
       "      <td>Training</td>\n",
       "    </tr>\n",
       "    <tr>\n",
       "      <th>2</th>\n",
       "      <td>2</td>\n",
       "      <td>231 212 156 164 174 138 161 173 182 200 106 38...</td>\n",
       "      <td>Training</td>\n",
       "    </tr>\n",
       "    <tr>\n",
       "      <th>3</th>\n",
       "      <td>4</td>\n",
       "      <td>24 32 36 30 32 23 19 20 30 41 21 22 32 34 21 1...</td>\n",
       "      <td>Training</td>\n",
       "    </tr>\n",
       "    <tr>\n",
       "      <th>4</th>\n",
       "      <td>6</td>\n",
       "      <td>4 0 0 0 0 0 0 0 0 0 0 0 3 15 23 28 48 50 58 84...</td>\n",
       "      <td>Training</td>\n",
       "    </tr>\n",
       "  </tbody>\n",
       "</table>\n",
       "</div>"
      ],
      "text/plain": [
       "   emotion                                             pixels     Usage\n",
       "0        0  70 80 82 72 58 58 60 63 54 58 60 48 89 115 121...  Training\n",
       "1        0  151 150 147 155 148 133 111 140 170 174 182 15...  Training\n",
       "2        2  231 212 156 164 174 138 161 173 182 200 106 38...  Training\n",
       "3        4  24 32 36 30 32 23 19 20 30 41 21 22 32 34 21 1...  Training\n",
       "4        6  4 0 0 0 0 0 0 0 0 0 0 0 3 15 23 28 48 50 58 84...  Training"
      ]
     },
     "execution_count": 5,
     "metadata": {},
     "output_type": "execute_result"
    }
   ],
   "source": [
    "df.head()"
   ]
  },
  {
   "cell_type": "code",
   "execution_count": 97,
   "metadata": {},
   "outputs": [
    {
     "data": {
      "text/plain": [
       "3    7215\n",
       "6    4965\n",
       "4    4830\n",
       "2    4097\n",
       "0    3995\n",
       "5    3171\n",
       "1     436\n",
       "Name: emotion, dtype: int64"
      ]
     },
     "execution_count": 97,
     "metadata": {},
     "output_type": "execute_result"
    }
   ],
   "source": [
    "# Num of samples for each class\n",
    "df[df.Usage==\"Training\"].emotion.value_counts()"
   ]
  },
  {
   "cell_type": "markdown",
   "metadata": {},
   "source": [
    "Class 1 has minor smaples so need to oversample this class 1. To avoid data leakage oversampling will be applied to Training data "
   ]
  },
  {
   "cell_type": "code",
   "execution_count": 37,
   "metadata": {},
   "outputs": [],
   "source": [
    "# input and output features\n",
    "X = df.pixels.str.split(\" \", expand=True).to_numpy() # Break the pixels string into individual columns\n",
    "Y = df.emotion.to_numpy() # Emotion Array"
   ]
  },
  {
   "cell_type": "code",
   "execution_count": 64,
   "metadata": {
    "scrolled": true
   },
   "outputs": [
    {
     "name": "stdout",
     "output_type": "stream",
     "text": [
      "(35887, 2304) (35887,)\n"
     ]
    }
   ],
   "source": [
    "print(X.shape, Y.shape)"
   ]
  },
  {
   "cell_type": "code",
   "execution_count": 65,
   "metadata": {},
   "outputs": [],
   "source": [
    "# Turn each pixel into a float and normalize to 0 to 1\n",
    "X = X.astype(np.int) / 255.0"
   ]
  },
  {
   "cell_type": "code",
   "execution_count": 180,
   "metadata": {},
   "outputs": [],
   "source": [
    "# Split the data into train and test -> Final 3600 samples for Test and Rest is for Train\n",
    "Xtrain, Xtest, Ytrain, Ytest = X[:-3600], X[-3600:], Y[:-3600], Y[-3600:]"
   ]
  },
  {
   "cell_type": "code",
   "execution_count": 181,
   "metadata": {},
   "outputs": [
    {
     "name": "stdout",
     "output_type": "stream",
     "text": [
      "(32287, 2304) (3600, 2304)\n"
     ]
    }
   ],
   "source": [
    "print(Xtrain.shape, Xtest.shape)"
   ]
  },
  {
   "cell_type": "code",
   "execution_count": 182,
   "metadata": {},
   "outputs": [
    {
     "name": "stdout",
     "output_type": "stream",
     "text": [
      "Minor class samples: 491\n",
      "Imbalance Ratio 9.087576374745417\n"
     ]
    }
   ],
   "source": [
    "# Check again the class imbalanceness\n",
    "print(\"Minor class samples:\", Ytrain[Ytrain==1].shape[0]) # minor class\n",
    "\n",
    "# Imbalnce ratio of class 1 relative to class 0\n",
    "r = Ytrain[Ytrain==0].shape[0] / Ytrain[Ytrain==1].shape[0]\n",
    "print(\"Imbalance Ratio\", r)"
   ]
  },
  {
   "cell_type": "code",
   "execution_count": 183,
   "metadata": {},
   "outputs": [
    {
     "name": "stdout",
     "output_type": "stream",
     "text": [
      "(36215, 2304) (36215,)\n"
     ]
    }
   ],
   "source": [
    "# Apply oversampling\n",
    "Px = np.repeat(Xtrain[Ytrain==1], 8, axis=0)\n",
    "Py = np.repeat(Ytrain[Ytrain==1], 8, axis=0)\n",
    "\n",
    "# combine to Original Xtrain\n",
    "Xtrain = np.vstack((Xtrain,Px))\n",
    "Ytrain = np.vstack((Ytrain.reshape(1,Ytrain.shape[0]).T,Py.reshape(1,Py.shape[0]).T))\n",
    "\n",
    "# Flat the Ytrain\n",
    "Ytrain = Ytrain.reshape(-1)\n",
    "\n",
    "print(Xtrain.shape, Ytrain.shape)"
   ]
  },
  {
   "cell_type": "code",
   "execution_count": 184,
   "metadata": {},
   "outputs": [],
   "source": [
    "# Shuffle training data\n",
    "Xtrain, Ytrain = shuffle(Xtrain, Ytrain)"
   ]
  },
  {
   "cell_type": "code",
   "execution_count": 185,
   "metadata": {},
   "outputs": [],
   "source": [
    "def showPhoto(x,y):\n",
    "    emotion={\n",
    "        0: \"Angry\",\n",
    "        1: \"Disgust\",\n",
    "        2: \"Fear\",\n",
    "        3: \"Happy\",\n",
    "        4: \"Sad\",\n",
    "        5: \"Surprise\",\n",
    "        6: \"Neutral\"\n",
    "    }\n",
    "    plt.title(\"Emotion: \"+emotion[y])\n",
    "    plt.imshow(x.reshape(48,48))\n",
    "    plt.show()"
   ]
  },
  {
   "cell_type": "code",
   "execution_count": 202,
   "metadata": {},
   "outputs": [
    {
     "data": {
      "image/png": "[encoded data removed]",
      "text/plain": [
       "<Figure size 432x288 with 1 Axes>"
      ]
     },
     "metadata": {
      "needs_background": "light"
     },
     "output_type": "display_data"
    }
   ],
   "source": [
    "# Testing a photo\n",
    "photo_id = 8000\n",
    "showPhoto(Xtrain[photo_id], Ytrain[photo_id])"
   ]
  },
  {
   "cell_type": "code",
   "execution_count": 85,
   "metadata": {},
   "outputs": [],
   "source": [
    "def oneHotEncode(y):\n",
    "    # Target index matrix from Ytrain\n",
    "    T = np.zeros((y.shape[0], np.unique(y).shape[0]))\n",
    "\n",
    "    for i,val in enumerate(y):\n",
    "        T[i,val] = 1\n",
    "\n",
    "    return T"
   ]
  },
  {
   "cell_type": "code",
   "execution_count": 86,
   "metadata": {},
   "outputs": [],
   "source": [
    "def sigmoid(z):\n",
    "    return 1 / (1 + np.exp(-z))"
   ]
  },
  {
   "cell_type": "code",
   "execution_count": 87,
   "metadata": {},
   "outputs": [],
   "source": [
    "def tanh(z):\n",
    "    return (np.exp(z)-np.exp(-z)) / (np.exp(z)+np.exp(-z))"
   ]
  },
  {
   "cell_type": "code",
   "execution_count": 88,
   "metadata": {},
   "outputs": [],
   "source": [
    "def softmax(z):\n",
    "    return np.exp(z) / np.sum(np.exp(z), axis=1, keepdims=True)"
   ]
  },
  {
   "cell_type": "code",
   "execution_count": 89,
   "metadata": {},
   "outputs": [],
   "source": [
    "def nonlinearDT(z, func):\n",
    "    if func == \"sigmoid\":\n",
    "        return z*(1-z)\n",
    "    if func == \"tanh\":\n",
    "        return (1-z**2)"
   ]
  },
  {
   "cell_type": "code",
   "execution_count": 90,
   "metadata": {},
   "outputs": [],
   "source": [
    "def cost(t,y):\n",
    "    return -np.mean(t*np.log(y))"
   ]
  },
  {
   "cell_type": "code",
   "execution_count": 210,
   "metadata": {},
   "outputs": [],
   "source": [
    "def forwardProp(X,T,Xtest,Ytest,h_layers,lr,activation_func,W,B,A,n,random_state):\n",
    "\n",
    "    D = X.shape[1] # N.Input nodes\n",
    "    K = T.shape[1] # N.Output nodes\n",
    "    L = len(h_layers) # N.Hidden Layers\n",
    "    A_test = {} # Test output at each layer\n",
    "    np.random.seed(random_state) # Seed\n",
    "\n",
    "    for i in range(L+1): # including output layer\n",
    "        if i==0: # At First Layer\n",
    "            if n==0:\n",
    "                W[i] = np.random.randn(D,h_layers[i])\n",
    "                B[i]  = np.random.randn(h_layers[i])\n",
    "            Z = np.dot(X, W[i]) + B[i]\n",
    "            A[i] = activation_func(Z)\n",
    "            \n",
    "            Z_test = np.dot(Xtest, W[i]) + B[i]\n",
    "            A_test[i] = activation_func(Z_test)\n",
    "            \n",
    "        elif i==L: # At Last Layer\n",
    "            if n==0:\n",
    "                W[i] = np.random.randn(h_layers[i-1], K)\n",
    "                B[i] = np.random.randn(K)\n",
    "            Z = np.dot(A[i-1], W[i]) + B[i]\n",
    "            A[i] = softmax(Z) # Multiclass Classification\n",
    "            \n",
    "            Z_test = np.dot(A_test[i-1], W[i]) + B[i]\n",
    "            A_test[i] = softmax(Z_test)\n",
    "\n",
    "        else: # At Middle Layers\n",
    "            if n==0:\n",
    "                W[i] = np.random.randn(h_layers[i-1], h_layers[i])\n",
    "                B[i] = np.random.randn(h_layers[i])\n",
    "            Z = np.dot(A[i-1], W[i]) + B[i]\n",
    "            A[i] = activation_func(Z)\n",
    "            \n",
    "            Z_test = np.dot(A_test[i-1], W[i]) + B[i]\n",
    "            A_test[i] = activation_func(Z_test) \n",
    "            \n",
    "    return W,B,A,A_test[list(A_test.keys())[-1]]"
   ]
  },
  {
   "cell_type": "code",
   "execution_count": 211,
   "metadata": {},
   "outputs": [],
   "source": [
    "def backProp(X,T,h_layers,lr,activation_func,W,B,A):\n",
    "    \n",
    "    Y = A[list(A.keys())[-1]] # Predicted Output\n",
    "    L = len(h_layers) # N.Hidden Layers\n",
    "    error, delta = {}, {}\n",
    "    \n",
    "    for i in range(L,-1,-1):\n",
    "        if i==L: # At Last Layer\n",
    "            error[i] = T-Y\n",
    "            delta[i] = error[i] # softmax layer\n",
    "            W[i] += lr*np.dot(A[i-1].T, delta[i])\n",
    "            B[i] += lr*np.sum(delta[i], axis=0)\n",
    "            #print(B[i])\n",
    "        elif i==0: # At First Layer\n",
    "            error[i] = np.dot(delta[i+1], W[i+1].T)\n",
    "            delta[i] = error[i]*nonlinearDT(A[i], activation_func.__name__)\n",
    "            W[i] += lr*np.dot(X.T, delta[i])\n",
    "            B[i] += lr*np.sum(delta[i], axis=0)\n",
    "            \n",
    "        else: # At Middle Layers\n",
    "            error[i] = np.dot(delta[i+1], W[i+1].T)\n",
    "            delta[i] = error[i]*nonlinearDT(A[i], activation_func.__name__)\n",
    "            W[i] += lr*np.dot(A[i-1].T, delta[i])\n",
    "            B[i] += lr*np.sum(delta[i], axis=0)\n",
    "            \n",
    "    return W, B, Y"
   ]
  },
  {
   "cell_type": "code",
   "execution_count": 212,
   "metadata": {},
   "outputs": [],
   "source": [
    "def fit(X, Y, Xtest, Ytest, h_layers=[2], lr=0.01, activation_func=sigmoid, iterations=100, random_state=1):\n",
    "    \n",
    "    T = oneHotEncode(Y) # Apply One hot encoding\n",
    "    T_test = oneHotEncode(Ytest)\n",
    "    \n",
    "    W, B, A = {}, {}, {} # weights, biases and outputs at each layers\n",
    "    ctrain, ctest = [], [] # Costs\n",
    "    \n",
    "    for n in range(iterations):\n",
    "        W, B, A, Yhat = forwardProp(X,T,Xtest,Ytest,h_layers,lr,activation_func,W,B,A,n,random_state)\n",
    "        W, B, Y = backProp(X,T,h_layers,lr,activation_func,W,B,A)\n",
    "\n",
    "        ctrain.append(cost(T,Y))\n",
    "        ctest.append(cost(T_test,Yhat))\n",
    "    \n",
    "    _, _, _, Yhat = forwardProp(X,T,Xtest,Ytest,h_layers,lr,activation_func,W,B,A,n,random_state) # Final output test \n",
    "    \n",
    "    Yhat_train = predict(Y) # Final Prediction for Training Data\n",
    "    Yhat_test = predict(Yhat) # Final Prediction for Testing Data\n",
    "    \n",
    "    return ctrain, ctest, Yhat_train, Yhat_test, W, B"
   ]
  },
  {
   "cell_type": "code",
   "execution_count": 213,
   "metadata": {},
   "outputs": [],
   "source": [
    "def predict(y):\n",
    "    return np.argmax(y, axis=1)"
   ]
  },
  {
   "cell_type": "code",
   "execution_count": 214,
   "metadata": {},
   "outputs": [],
   "source": [
    "def accuracy(y, yhat):\n",
    "    return np.mean(y==yhat)"
   ]
  },
  {
   "cell_type": "code",
   "execution_count": null,
   "metadata": {},
   "outputs": [],
   "source": [
    "# Train DNN\n",
    "Ctrain, Ctest, Yhat_train, Yhat_test, W, B = fit(\n",
    "    Xtrain, Ytrain, Xtest, Ytest, h_layers=[200,100], lr=0.000001, activation_func=tanh, iterations=100000, random_state=1)"
   ]
  },
  {
   "cell_type": "code",
   "execution_count": 247,
   "metadata": {},
   "outputs": [
    {
     "name": "stdout",
     "output_type": "stream",
     "text": [
      "Training Accuracy: 22.824796355101476%\n",
      "Testing Accuracy: 22.72222222222222%\n"
     ]
    }
   ],
   "source": [
    "# Accuracy\n",
    "train_result = accuracy(Ytrain, Yhat_train)\n",
    "test_result = accuracy(Ytest, Yhat_test)\n",
    "print(\"Training Accuracy: {}%\".format(train_result*100))\n",
    "print(\"Testing Accuracy: {}%\".format(test_result*100))"
   ]
  },
  {
   "cell_type": "code",
   "execution_count": 248,
   "metadata": {},
   "outputs": [
    {
     "data": {
      "image/png": "[encoded data removed]",
      "text/plain": [
       "<Figure size 720x720 with 1 Axes>"
      ]
     },
     "metadata": {
      "needs_background": "light"
     },
     "output_type": "display_data"
    }
   ],
   "source": [
    "# Cost plot\n",
    "plt.figure(figsize=(10,10))\n",
    "plt.plot(Ctrain, label=\"Train\")\n",
    "plt.plot(Ctest, label=\"Test\")\n",
    "plt.legend(fontsize=15)\n",
    "plt.xlabel(\"Iterations\", fontsize=15)\n",
    "plt.ylabel(\"Cost\", fontsize=15)\n",
    "plt.show()"
   ]
  },
  {
   "cell_type": "code",
   "execution_count": null,
   "metadata": {},
   "outputs": [],
   "source": []
  },
  {
   "cell_type": "code",
   "execution_count": null,
   "metadata": {},
   "outputs": [],
   "source": []
  },
  {
   "cell_type": "code",
   "execution_count": null,
   "metadata": {},
   "outputs": [],
   "source": []
  }
 ],
 "metadata": {
  "kernelspec": {
   "display_name": "Python 3",
   "language": "python",
   "name": "python3"
  },
  "language_info": {
   "codemirror_mode": {
    "name": "ipython",
    "version": 3
   },
   "file_extension": ".py",
   "mimetype": "text/x-python",
   "name": "python",
   "nbconvert_exporter": "python",
   "pygments_lexer": "ipython3",
   "version": "3.7.9"
  }
 },
 "nbformat": 4,
 "nbformat_minor": 4
}
