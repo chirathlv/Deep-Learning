{
 "cells": [
  {
   "cell_type": "markdown",
   "metadata": {},
   "source": [
    "# E-commerce User Action Prediction"
   ]
  },
  {
   "cell_type": "code",
   "execution_count": 1,
   "metadata": {},
   "outputs": [],
   "source": [
    "# import packages\n",
    "import numpy as np\n",
    "import pandas as pd\n",
    "import matplotlib.pyplot as plt\n",
    "%matplotlib inline"
   ]
  },
  {
   "cell_type": "code",
   "execution_count": 2,
   "metadata": {},
   "outputs": [],
   "source": [
    "# load the dataset\n",
    "df = pd.read_csv(\".\\Datasets\\ecommerce_data.csv\", encoding=\"UTF-8\")"
   ]
  },
  {
   "cell_type": "code",
   "execution_count": 3,
   "metadata": {},
   "outputs": [
    {
     "data": {
      "text/html": [
       "<div>\n",
       "<style scoped>\n",
       "    .dataframe tbody tr th:only-of-type {\n",
       "        vertical-align: middle;\n",
       "    }\n",
       "\n",
       "    .dataframe tbody tr th {\n",
       "        vertical-align: top;\n",
       "    }\n",
       "\n",
       "    .dataframe thead th {\n",
       "        text-align: right;\n",
       "    }\n",
       "</style>\n",
       "<table border=\"1\" class=\"dataframe\">\n",
       "  <thead>\n",
       "    <tr style=\"text-align: right;\">\n",
       "      <th></th>\n",
       "      <th>is_mobile</th>\n",
       "      <th>n_products_viewed</th>\n",
       "      <th>visit_duration</th>\n",
       "      <th>is_returning_visitor</th>\n",
       "      <th>time_of_day</th>\n",
       "      <th>user_action</th>\n",
       "    </tr>\n",
       "  </thead>\n",
       "  <tbody>\n",
       "    <tr>\n",
       "      <th>0</th>\n",
       "      <td>1</td>\n",
       "      <td>0</td>\n",
       "      <td>0.657510</td>\n",
       "      <td>0</td>\n",
       "      <td>3</td>\n",
       "      <td>0</td>\n",
       "    </tr>\n",
       "    <tr>\n",
       "      <th>1</th>\n",
       "      <td>1</td>\n",
       "      <td>1</td>\n",
       "      <td>0.568571</td>\n",
       "      <td>0</td>\n",
       "      <td>2</td>\n",
       "      <td>1</td>\n",
       "    </tr>\n",
       "    <tr>\n",
       "      <th>2</th>\n",
       "      <td>1</td>\n",
       "      <td>0</td>\n",
       "      <td>0.042246</td>\n",
       "      <td>1</td>\n",
       "      <td>1</td>\n",
       "      <td>0</td>\n",
       "    </tr>\n",
       "    <tr>\n",
       "      <th>3</th>\n",
       "      <td>1</td>\n",
       "      <td>1</td>\n",
       "      <td>1.659793</td>\n",
       "      <td>1</td>\n",
       "      <td>1</td>\n",
       "      <td>2</td>\n",
       "    </tr>\n",
       "    <tr>\n",
       "      <th>4</th>\n",
       "      <td>0</td>\n",
       "      <td>1</td>\n",
       "      <td>2.014745</td>\n",
       "      <td>1</td>\n",
       "      <td>1</td>\n",
       "      <td>2</td>\n",
       "    </tr>\n",
       "  </tbody>\n",
       "</table>\n",
       "</div>"
      ],
      "text/plain": [
       "   is_mobile  n_products_viewed  visit_duration  is_returning_visitor  \\\n",
       "0          1                  0        0.657510                     0   \n",
       "1          1                  1        0.568571                     0   \n",
       "2          1                  0        0.042246                     1   \n",
       "3          1                  1        1.659793                     1   \n",
       "4          0                  1        2.014745                     1   \n",
       "\n",
       "   time_of_day  user_action  \n",
       "0            3            0  \n",
       "1            2            1  \n",
       "2            1            0  \n",
       "3            1            2  \n",
       "4            1            2  "
      ]
     },
     "execution_count": 3,
     "metadata": {},
     "output_type": "execute_result"
    }
   ],
   "source": [
    "df.head()"
   ]
  },
  {
   "cell_type": "code",
   "execution_count": 4,
   "metadata": {},
   "outputs": [
    {
     "data": {
      "text/plain": [
       "is_mobile               False\n",
       "n_products_viewed       False\n",
       "visit_duration          False\n",
       "is_returning_visitor    False\n",
       "time_of_day             False\n",
       "user_action             False\n",
       "dtype: bool"
      ]
     },
     "execution_count": 4,
     "metadata": {},
     "output_type": "execute_result"
    }
   ],
   "source": [
    "# Check missing values\n",
    "df.isnull().any()"
   ]
  },
  {
   "cell_type": "code",
   "execution_count": 5,
   "metadata": {},
   "outputs": [],
   "source": [
    "# Normalize the n_products_viewed and visit_duration columns\n",
    "df[\"n_products_viewed\"] = (df[\"n_products_viewed\"] - df[\"n_products_viewed\"].mean()) / df[\"n_products_viewed\"].std()\n",
    "df[\"visit_duration\"] = (df[\"visit_duration\"] - df[\"visit_duration\"].mean()) / df[\"visit_duration\"].std()"
   ]
  },
  {
   "cell_type": "code",
   "execution_count": 6,
   "metadata": {},
   "outputs": [],
   "source": [
    "# input and output features\n",
    "X = df.iloc[:,:-1].to_numpy()\n",
    "Y = df.iloc[:,-1].to_numpy()"
   ]
  },
  {
   "cell_type": "code",
   "execution_count": 7,
   "metadata": {},
   "outputs": [
    {
     "data": {
      "text/plain": [
       "0    253\n",
       "1    145\n",
       "2     77\n",
       "3     25\n",
       "Name: user_action, dtype: int64"
      ]
     },
     "execution_count": 7,
     "metadata": {},
     "output_type": "execute_result"
    }
   ],
   "source": [
    "df.user_action.value_counts()"
   ]
  },
  {
   "cell_type": "code",
   "execution_count": 8,
   "metadata": {},
   "outputs": [],
   "source": [
    "# Apply one hot encoding to \"time_of_day\" column\n",
    "V = np.zeros((X.shape[0], (X[:,-1].max()+1).astype(np.int32)))\n",
    "\n",
    "for i,j in enumerate(X[:,-1]):\n",
    "    V[i,int(j)] = 1\n",
    "    \n",
    "X = np.concatenate((X[:,:-1].reshape(X.shape[0],X.shape[1]-1),V), axis=1)"
   ]
  },
  {
   "cell_type": "code",
   "execution_count": 9,
   "metadata": {},
   "outputs": [],
   "source": [
    "# Apply one hot encoding to Y and take as T\n",
    "T = np.zeros((Y.shape[0], np.unique(Y).shape[0]))\n",
    "\n",
    "for i,j in enumerate(Y):\n",
    "    T[i,j] = 1"
   ]
  },
  {
   "cell_type": "code",
   "execution_count": 10,
   "metadata": {},
   "outputs": [
    {
     "name": "stdout",
     "output_type": "stream",
     "text": [
      "(500, 8) (500, 4)\n"
     ]
    }
   ],
   "source": [
    "print(X.shape, T.shape)"
   ]
  },
  {
   "cell_type": "code",
   "execution_count": 11,
   "metadata": {},
   "outputs": [],
   "source": [
    "def sigmoid(z):\n",
    "    return 1 / (1 + np.exp(-z))"
   ]
  },
  {
   "cell_type": "code",
   "execution_count": 12,
   "metadata": {},
   "outputs": [],
   "source": [
    "def tanh(z):\n",
    "    return (np.exp(z)-np.exp(-z)) / (np.exp(z)+np.exp(-z))"
   ]
  },
  {
   "cell_type": "code",
   "execution_count": 13,
   "metadata": {},
   "outputs": [],
   "source": [
    "def softmax(z):\n",
    "    return np.exp(z) / np.sum(np.exp(z),axis=1,keepdims=True)"
   ]
  },
  {
   "cell_type": "code",
   "execution_count": 14,
   "metadata": {},
   "outputs": [],
   "source": [
    "def cost(T,Y):\n",
    "    L = -np.mean(T*np.log(Y))\n",
    "    return L"
   ]
  },
  {
   "cell_type": "code",
   "execution_count": 15,
   "metadata": {},
   "outputs": [],
   "source": [
    "def predict(output):\n",
    "    predictions = np.argmax(output, axis=1) # Return the index of the highest probability value\n",
    "    return predictions"
   ]
  },
  {
   "cell_type": "code",
   "execution_count": 16,
   "metadata": {},
   "outputs": [],
   "source": [
    "def accuracy(y, yhat):\n",
    "    return np.mean(y==yhat)"
   ]
  },
  {
   "cell_type": "code",
   "execution_count": 17,
   "metadata": {},
   "outputs": [],
   "source": [
    "def forwardProp(X,T,W,B,A,hidden_units, activation_func, iteration, random_state):\n",
    "    D = X.shape[1] # N.Input Features\n",
    "    L = len(hidden_units) # N.Hidden Layers\n",
    "    K = T.shape[1] # N.Outputs\n",
    "    np.random.seed(random_state) # Seed\n",
    "    \n",
    "    for i in range(L+1): # Iterate until reach Output layer\n",
    "        if i == 0: # At First Hidden Layer\n",
    "            if iteration == 0:\n",
    "                W[i] = np.random.randn(D,hidden_units[0]) # Weights Initialization DxM\n",
    "                B[i] = np.random.randn(hidden_units[0]) # Bias Initialization M\n",
    "            z = np.dot(X,W[i])+B[i] # Dot with W\n",
    "            A[i] = activation_func(z) # Apply Activation Func\n",
    "            \n",
    "        elif i == L: # At output layer\n",
    "            if iteration == 0:\n",
    "                W[i] = np.random.randn(hidden_units[i-1],K)\n",
    "                B[i] = np.random.randn(K)\n",
    "            z = np.dot(A[i-1],W[i])+B[i]\n",
    "            A[i] = softmax(z) # softmax\n",
    "            \n",
    "        else: # At Middle Hidden Layers\n",
    "            if iteration == 0:\n",
    "                W[i] = np.random.randn(hidden_units[i-1],hidden_units[i])\n",
    "                B[i] = np.random.randn(hidden_units[i])\n",
    "            z = np.dot(A[i-1],W[i])+B[i]\n",
    "            A[i] = activation_func(z)\n",
    "    \n",
    "    return W, B, A, A[len(A.keys())-1] # last layer"
   ]
  },
  {
   "cell_type": "code",
   "execution_count": 18,
   "metadata": {},
   "outputs": [],
   "source": [
    "def backProp(X,T,Y,W,B,A,hidden_units,activation_func, lr):\n",
    "    L = len(hidden_units) # N.Hidden Layers\n",
    "    Error, delta = {}, {}\n",
    "    \n",
    "    for i in range(L,-1,-1):\n",
    "        if i == L: # At output layer\n",
    "            Error[i] = T-Y # error\n",
    "            delta[i] = Error[i]\n",
    "            W[i] += lr*np.dot(A[i-1].T,delta[i])\n",
    "            B[i] += lr*delta[i].sum(axis=0)\n",
    "            \n",
    "        elif i == 0: # At First Hidden Layer\n",
    "            Error[i] = np.dot(delta[i+1], W[i+1].T)\n",
    "            delta[i] = Error[i]*(1-A[i]**2)\n",
    "            W[i] += lr*np.dot(X.T,delta[i])\n",
    "            B[i] += lr*delta[i].sum(axis=0)\n",
    "            \n",
    "        else: # At Middle Hidden Layers\n",
    "            Error[i] = np.dot(delta[i+1], W[i+1].T)\n",
    "            delta[i] = Error[i]*(1-A[i]**2)\n",
    "            W[i] += lr*np.dot(A[i-1].T,delta[i])\n",
    "            B[i] += lr*delta[i].sum(axis=0)\n",
    "            \n",
    "    return W,B"
   ]
  },
  {
   "cell_type": "code",
   "execution_count": 19,
   "metadata": {},
   "outputs": [],
   "source": [
    "def fit(X, T, hidden_units=[5], lr=0.01, iterations=100, activation_func=sigmoid, random_state=1):\n",
    "    C = [] # Total Cost\n",
    "    W, B, A = {}, {}, {} # Weights, Biases, Activation-Output\n",
    "    \n",
    "    for i in range(iterations):      \n",
    "        W, B, A, Y = forwardProp(X,T,W,B,A,hidden_units,activation_func, i, random_state) # Forward Propagation\n",
    "        W, B = backProp(X,T,Y,W,B,A,hidden_units,activation_func, lr) # Backpropagation\n",
    "        C.append(cost(T,Y)) # Cost\n",
    "    \n",
    "    Yhat = predict(Y) # Prediction\n",
    "    \n",
    "    return C, Yhat"
   ]
  },
  {
   "cell_type": "code",
   "execution_count": 23,
   "metadata": {},
   "outputs": [],
   "source": [
    "# X = Input\n",
    "# T = Target\n",
    "# hidden_units = list(num,of,neurons,in,Each,layer)\n",
    "# lr = Learning Rate\n",
    "# iterations\n",
    "# activation_func = sigmoid/tanh/relu\n",
    "# random_state = seed\n",
    "\n",
    "c, Yhat = fit(X, T, hidden_units=[5], lr=0.001, iterations=10000, activation_func=tanh, random_state=1)"
   ]
  },
  {
   "cell_type": "code",
   "execution_count": 24,
   "metadata": {},
   "outputs": [
    {
     "name": "stdout",
     "output_type": "stream",
     "text": [
      "Accuracy:  99.8\n"
     ]
    }
   ],
   "source": [
    "# accuracy\n",
    "results = accuracy(Y, Yhat)\n",
    "print(\"Accuracy: \", str(results*100))"
   ]
  },
  {
   "cell_type": "code",
   "execution_count": 26,
   "metadata": {},
   "outputs": [
    {
     "data": {
      "image/png": "[encoded data removed]",
      "text/plain": [
       "<Figure size 432x432 with 1 Axes>"
      ]
     },
     "metadata": {
      "needs_background": "light"
     },
     "output_type": "display_data"
    }
   ],
   "source": [
    "plt.figure(figsize=(6,6))\n",
    "plt.plot(c)\n",
    "plt.title(\"Training Cost\")\n",
    "plt.xlabel(\"Iterations\", fontsize=15)\n",
    "plt.ylabel(\"Cost\", fontsize=15)\n",
    "plt.show()"
   ]
  },
  {
   "cell_type": "code",
   "execution_count": null,
   "metadata": {},
   "outputs": [],
   "source": []
  }
 ],
 "metadata": {
  "kernelspec": {
   "display_name": "Python 3",
   "language": "python",
   "name": "python3"
  },
  "language_info": {
   "codemirror_mode": {
    "name": "ipython",
    "version": 3
   },
   "file_extension": ".py",
   "mimetype": "text/x-python",
   "name": "python",
   "nbconvert_exporter": "python",
   "pygments_lexer": "ipython3",
   "version": "3.7.9"
  }
 },
 "nbformat": 4,
 "nbformat_minor": 4
}
